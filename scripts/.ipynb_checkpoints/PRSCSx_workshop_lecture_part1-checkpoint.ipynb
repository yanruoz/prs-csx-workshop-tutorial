{
 "cells": [
  {
   "cell_type": "markdown",
   "id": "b1e31bd7",
   "metadata": {},
   "source": [
    "# Part 1: Run PRS-CSx"
   ]
  },
  {
   "cell_type": "markdown",
   "id": "d6ef37c4",
   "metadata": {},
   "source": [
    "## Setting Up PRS-CSx\n",
    "\n",
    "- **0. Create a folder to be your working directory. Let's name it `user_test` for the purpose of subsequent explanations.**\n",
    "    <br>\n",
    "\n",
    "- **1. Clone the PRS-CSx repository using the following git command**:\n",
    "    ```bash\n",
    "    git clone https://github.com/getian107/PRScsx.git\n",
    "    ```\n",
    "\n",
    "    Alternatively, download the source files from the [GitHub website](https://github.com/getian107/PRScsx) to `user_test`.\n",
    "    <br>\n",
    "\n",
    "- **2. In `user_test`, create a sub-folder named `ref`. Download the LD reference panels to `ref` and extract files**:\n",
    "    <br>\n",
    "    LD reference panels constructed using the 1000 Genomes Project phase 3 samples:\n",
    "\n",
    "    - [EAS reference](https://www.dropbox.com/s/7ek4lwwf2b7f749/ldblk_1kg_eas.tar.gz?dl=0) (~4.33G): \n",
    "        ```bash\n",
    "        wget -O ldblk_1kg_eas.tar.gz \"https://www.dropbox.com/s/7ek4lwwf2b7f749/ldblk_1kg_eas.tar.gz?dl=1\"\n",
    "        tar -zxvf ldblk_1kg_eas.tar.gz\n",
    "        ```\n",
    "\n",
    "    - [EUR reference](https://www.dropbox.com/s/mt6var0z96vb6fv/ldblk_1kg_eur.tar.gz?e=1&dl=0) (~4.56G) : \n",
    "        ```bash\n",
    "        wget -O ldblk_1kg_eur.tar.gz \"https://www.dropbox.com/s/mt6var0z96vb6fv/ldblk_1kg_eur.tar.gz?e=1&dl=0\"\n",
    "        tar -zxvf ldblk_1kg_eur.tar.gz\n",
    "        ```\n",
    "\n",
    "    Note that these files are identical to the reference panels used in PRS-CS. Therefore, there is no need to download again if you are already using PRS-CS.\n",
    "\n",
    "    For regions that don't have access to Dropbox, reference panels can be downloaded from the [alternative download site](https://personal.broadinstitute.org/hhuang/public/PRS-CSx/Reference/).\n",
    "    <br>\n",
    "    <br>\n",
    "\n",
    "- **3. Download the SNP information file and put it in the same folder containing the reference panels**:\n",
    "    - [1000 Genomes reference: SNP info](https://www.dropbox.com/s/rhi806sstvppzzz/snpinfo_mult_1kg_hm3?dl=0) (~106M): \n",
    "        ```bash\n",
    "        wget -O snpinfo_mult_1kg_hm3 \"https://www.dropbox.com/s/rhi806sstvppzzz/snpinfo_mult_1kg_hm3?dl=0\"\n",
    "        ```\n",
    "    <br>\n",
    "\n",
    "- **4. PRScsx requires Python packages `scipy` and `h5py` installed**:\n",
    "    - [scipy](https://www.scipy.org/)\n",
    "    - [h5py](https://www.h5py.org/)\n",
    "    <br>\n",
    "    <br>\n",
    "\n",
    "- **5. Once Python and its dependencies have been installed, running the following will print a list of command-line options.**:\n",
    "    ```bash\n",
    "    ./PRScsx.py --help \n",
    "    # or \n",
    "    ./PRScsx.py -h\n",
    "    ```"
   ]
  },
  {
   "cell_type": "markdown",
   "id": "713ec843",
   "metadata": {},
   "source": [
    "## Using PRS-CSx with Test Data\n",
    "The test data contains EUR and EAS GWAS summary statistics and a bim file for 1,000 SNPs on chromosome 22. An example to use the test data:\n",
    "```bash\n",
    "python PRScsx.py --ref_dir=path_to_ref --bim_prefix=path_to_bim/test --sst_file=path_to_sumstats/EUR_sumstats.txt,path_to_sumstats/EAS_sumstats.txt --n_gwas=200000,100000 --pop=EUR,EAS --chrom=22 --phi=1e-2 --out_dir=path_to_output --out_name=test\n",
    "```\n",
    "The test data analysis would be finished in approximately 1 min when using 8Gb of RAM.\n",
    "\n",
    "Example use given that the reference panels are downloaded in a folder named `ref` and that the current working directory is where PRScsx.py is located:\n",
    "1. Create a directory to store output:\n",
    "    ```bash\n",
    "    mkdir -p ../output\n",
    "    ```\n",
    "    \n",
    "2. Run PRS-CSx: <br>\n",
    "    ```bash\n",
    "    python PRScsx.py --ref_dir=../ref --bim_prefix=./test_data/test --sst_file=./test_data/EUR_sumstats.txt,./test_data/EAS_sumstats.txt --n_gwas=200000,100000 --pop=EUR,EAS --chrom=22 --phi=1e-2 --out_dir=../output --out_name=test\n",
    "    ```\n",
    "    The output will be stored in the `output` folder created earlier."
   ]
  }
 ],
 "metadata": {
  "kernelspec": {
   "display_name": "Python 3 (ipykernel)",
   "language": "python",
   "name": "python3"
  },
  "language_info": {
   "codemirror_mode": {
    "name": "ipython",
    "version": 3
   },
   "file_extension": ".py",
   "mimetype": "text/x-python",
   "name": "python",
   "nbconvert_exporter": "python",
   "pygments_lexer": "ipython3",
   "version": "3.11.10"
  }
 },
 "nbformat": 4,
 "nbformat_minor": 5
}
