{
 "cells": [
  {
   "cell_type": "markdown",
   "id": "6eef7f7d-f0bc-4edc-b797-99b5ec90d3d7",
   "metadata": {},
   "source": [
    "# PRS-CSx Tutorial"
   ]
  },
  {
   "cell_type": "markdown",
   "id": "d778d6fd-e0f7-4965-97d0-d7349a4cd518",
   "metadata": {},
   "source": [
    "## Part 1. Running PRS-CSx"
   ]
  },
  {
   "cell_type": "markdown",
   "id": "9ed6441e-ce96-47fb-9f95-f83b757b538a",
   "metadata": {},
   "source": [
    "### Inputs:\n",
    "1. Reference panel for EAS population: ldblk_1kg_eas.tar.gz\n",
    "2. Reference panel for EUR population: ldblk_1kg_eur.tar.gz\n",
    "3. SNP information: snpinfo_mult_1kg_hm3\n",
    "4. EAS population summary statistics: EAS_sumstats.txt\n",
    "5. EUR population summary statistics: EUR_sumstats.txt\n",
    "\n",
    "### Outputs\n",
    "1. EAS PRS (contains population-specific posterior SNP effect size estimates for each individual): test_EAS_pst_eff_a1_b0.5_phi1e-02_chr22.txt\n",
    "2. EUR PRS (contains population-specific posterior SNP effect size estimates for each individual): test_EUR_pst_eff_a1_b0.5_phi1e-02_chr22.txt"
   ]
  },
  {
   "cell_type": "markdown",
   "id": "78ceac7c-3547-49ad-b76f-c93615af18a9",
   "metadata": {},
   "source": [
    "### Check if bash and curl are available:\n",
    "If you run into an error, please install them and then run the following"
   ]
  },
  {
   "cell_type": "code",
   "execution_count": 2,
   "id": "d99980dd-d372-46a2-94f6-dd5263ca82f9",
   "metadata": {},
   "outputs": [
    {
     "name": "stdout",
     "output_type": "stream",
     "text": [
      "GNU bash, version 3.2.57(1)-release (arm64-apple-darwin23)\n",
      "Copyright (C) 2007 Free Software Foundation, Inc.\n",
      "/bin/bash\n",
      "curl 8.9.1 (arm64-apple-darwin20.0.0) libcurl/8.9.1 OpenSSL/3.0.15 zlib/1.2.13 libssh2/1.11.0 nghttp2/1.57.0\n",
      "Release-Date: 2024-07-31\n",
      "Protocols: dict file ftp ftps gopher gophers http https imap imaps ipfs ipns mqtt pop3 pop3s rtsp scp sftp smb smbs smtp smtps telnet tftp\n",
      "Features: alt-svc AsynchDNS GSS-API HSTS HTTP2 HTTPS-proxy IPv6 Kerberos Largefile libz NTLM SPNEGO SSL threadsafe TLS-SRP UnixSockets\n"
     ]
    }
   ],
   "source": [
    "!bash --version\n",
    "!which bash\n",
    "!curl --version"
   ]
  },
  {
   "cell_type": "markdown",
   "id": "58be98c1",
   "metadata": {},
   "source": [
    "### Import Python packages:"
   ]
  },
  {
   "cell_type": "code",
   "execution_count": 4,
   "id": "f63f31e8-4d2f-4938-adef-601143580f1e",
   "metadata": {},
   "outputs": [],
   "source": [
    "import pandas as pd\n",
    "import numpy as np\n",
    "from sklearn.linear_model import LinearRegression\n",
    "from sklearn.model_selection import train_test_split\n",
    "from sklearn.metrics import mean_squared_error, r2_score\n",
    "import matplotlib.pyplot as plt\n",
    "import os\n",
    "from IPython.display import Markdown"
   ]
  },
  {
   "cell_type": "markdown",
   "id": "b88e3ca2-011d-4fc6-b645-967958c2609c",
   "metadata": {},
   "source": [
    "### Set the working directory"
   ]
  },
  {
   "cell_type": "code",
   "execution_count": 6,
   "id": "0a0f6fc5-bf24-4e8f-bd41-77922667d5da",
   "metadata": {},
   "outputs": [
    {
     "name": "stdout",
     "output_type": "stream",
     "text": [
      "Current working directory: /Users/aliceyan/Documents/GitHub/prs-csx-workshop-tutorial-updated-11262024\n"
     ]
    }
   ],
   "source": [
    "# Set the working directory as the parent folder of where the script is located and save it as a variable named \"cwd\"\n",
    "cwd = os.path.dirname(os.getcwd())\n",
    "os.chdir(cwd)\n",
    "\n",
    "# Inspect the current working directory\n",
    "print(f\"Current working directory: {os.getcwd()}\")"
   ]
  },
  {
   "cell_type": "markdown",
   "id": "652267d2-883a-49de-941f-6228653eb0b9",
   "metadata": {},
   "source": [
    "### Inspect the bash script to run PRS-CSx"
   ]
  },
  {
   "cell_type": "code",
   "execution_count": 8,
   "id": "e49ae9ca-d0fe-498a-a89b-696c345040e6",
   "metadata": {},
   "outputs": [
    {
     "name": "stdout",
     "output_type": "stream",
     "text": [
      "Bash script path: /Users/aliceyan/Documents/GitHub/prs-csx-workshop-tutorial-updated-11262024/scripts/run_prscsx.sh\n"
     ]
    },
    {
     "data": {
      "text/markdown": [
       "```bash\n",
       "#!/bin/bash\n",
       "\n",
       "## Setting Up PRS-CSx \n",
       "\n",
       "# 0. Set the working directory as the parent directory of which the script is located.\n",
       "echo \"Current working directory: $(realpath ./)\"\n",
       "\n",
       "# 1. Clone the PRS-CSx repository using the following git command:\n",
       "git clone https://github.com/getian107/PRScsx.git\n",
       "\n",
       "# 2. Create a sub-folder named `ref`. Download the LD reference panels to `ref` and extract files:\n",
       "# For regions that don't have access to Dropbox, reference panels can be downloaded from the [alternative download site](https://personal.broadinstitute.org/hhuang/public/PRS-CSx/Reference/).\n",
       "mkdir -p ref\n",
       "echo \"Downloading files...\"\n",
       "EAS_REF_URL=\"https://www.dropbox.com/s/7ek4lwwf2b7f749/ldblk_1kg_eas.tar.gz?dl=1\"\n",
       "EUR_REF_URL=\"https://www.dropbox.com/s/mt6var0z96vb6fv/ldblk_1kg_eur.tar.gz?e=1&dl=0\"\n",
       "EAS_REF_DIR=\"./ref/ldblk_1kg_eas.tar.gz\"\n",
       "EUR_REF_DIR=\"./ref/ldblk_1kg_eur.tar.gz\"\n",
       "curl -L -o \"$EAS_REF_DIR\" \"$EAS_REF_URL\"\n",
       "curl -L -o \"$EUR_REF_DIR\" \"$EUR_REF_URL\"\n",
       "echo \"Download completed: 1)EAS ref: $(realpath \"$EAS_REF_DIR\"), 2) EUR ref: $(realpath \"$EUR_REF_DIR\")\"\n",
       "echo \"Extracting files...\"\n",
       "tar -zxvf \"$EAS_REF_DIR\" -C \"./ref\"\n",
       "tar -zxvf \"$EUR_REF_DIR\" -C \"./ref\"\n",
       "echo \"Extraction completed.\"\n",
       "\n",
       "# 3. Download the SNP information file and put it in the same folder containing the reference panels:\n",
       "SNP_INFO_URL=\"https://www.dropbox.com/s/rhi806sstvppzzz/snpinfo_mult_1kg_hm3?dl=0\"\n",
       "SNP_INFO_DIR=\"./ref/snpinfo_mult_1kg_hm3\"\n",
       "curl -L -o \"$SNP_INFO_DIR\" \"$SNP_INFO_URL\"\n",
       "\n",
       "# 4. PRScsx requires Python packages `scipy` and `h5py` installed:\n",
       "# Function to check and install a Python package\n",
       "check_and_install_package() {\n",
       "    PACKAGE=$1\n",
       "    if python -c \"import $PACKAGE\" &> /dev/null; then\n",
       "        echo \"$PACKAGE is already installed.\"\n",
       "    else\n",
       "        echo \"$PACKAGE is not installed. Installing...\"\n",
       "        pip install $PACKAGE\n",
       "        if [ $? -eq 0 ]; then\n",
       "            echo \"$PACKAGE installed successfully.\"\n",
       "        else\n",
       "            echo \"Failed to install $PACKAGE. Please check your Python and pip setup.\"\n",
       "            exit 1\n",
       "        fi\n",
       "    fi\n",
       "}\n",
       "\n",
       "# Ensure pip is available\n",
       "if ! command -v pip &> /dev/null; then\n",
       "    echo \"pip is not installed. Please install pip and rerun this script.\"\n",
       "    exit 1\n",
       "fi\n",
       "\n",
       "# Check and install scipy and h5py\n",
       "check_and_install_package \"scipy\"\n",
       "check_and_install_package \"h5py\"\n",
       "\n",
       "# 5. Once Python and its dependencies have been installed, running the following will print a list of command-line options:\n",
       "echo \"Printing PRScsx command options...\"\n",
       "./PRScsx/PRScsx.py --help \n",
       "\n",
       "## Using PRS-CSx with Test Data\n",
       "# The test data contains EUR and EAS GWAS summary statistics and a bim file for 1,000 SNPs on chromosome 22.\n",
       "# 1. Create a directory to store output:\n",
       "mkdir -p outputs\n",
       "OUTPUT_FOLDER_DIR=$(realpath \"./outputs\")\n",
       "    \n",
       "# 2. Run PRS-CSx:\n",
       "echo \"Running PRS-CSx on test data...\"\n",
       "python ./PRScsx/PRScsx.py \\\n",
       "    --ref_dir=./ref \\\n",
       "    --bim_prefix=./PRScsx/test_data/test \\\n",
       "    --sst_file=./PRScsx/test_data/EUR_sumstats.txt,./PRScsx/test_data/EAS_sumstats.txt \\\n",
       "    --n_gwas=200000,100000 \\\n",
       "    --pop=EUR,EAS \\\n",
       "    --chrom=22 \\\n",
       "    --phi=1e-2 \\\n",
       "    --out_dir=./outputs \\\n",
       "    --out_name=test\n",
       "echo \"PRS-CSx finished running: $OUTPUT_FOLDER_DIR\"\n",
       "\n",
       "```"
      ],
      "text/plain": [
       "<IPython.core.display.Markdown object>"
      ]
     },
     "execution_count": 8,
     "metadata": {},
     "output_type": "execute_result"
    }
   ],
   "source": [
    "# Absolute path to the bash script\n",
    "bash_script_path = os.path.join(cwd, \"scripts/run_prscsx.sh\")\n",
    "print(f\"Bash script path: {bash_script_path}\")\n",
    "\n",
    "# Read the script content\n",
    "with open(bash_script_path, \"r\") as file:\n",
    "    bash_script_content = file.read()\n",
    "\n",
    "# Display the script as preformatted Markdown\n",
    "Markdown(f\"```bash\\n{bash_script_content}\\n```\")"
   ]
  },
  {
   "cell_type": "markdown",
   "id": "98262141-af45-4b86-9ea8-304ee5c39b63",
   "metadata": {},
   "source": [
    "### Explanation of the input of PRS-CSx\n",
    "`ref_dir` --> PATH_TO_REFERENCE (required): Full path to the directory that contains the SNP information file and LD reference panels. If the 1000 Genomes reference is used, the folder would contain the SNP information file snpinfo_mult_1kg_hm3 and one or more of the LD reference files: ldblk_1kg_afr, ldblk_1kg_amr, ldblk_1kg_eas, ldblk_1kg_eur, ldblk_1kg_sas; if the UK Biobank reference is used, the folder would contain the SNP information file snpinfo_mult_ukbb_hm3 and one or more of the LD reference files: ldblk_ukbb_afr, ldblk_ukbb_amr, ldblk_ukbb_eas, ldblk_ukbb_eur, ldblk_ukbb_sas. (In our script, we used the 1000 Genomes reference.)\n",
    "\n",
    "`bim_prefix` --> VALIDATION_BIM_PREFIX (required): Full path and the prefix of the bim file for the target (validation/testing) dataset. This file is used to provide a list of SNPs that are available in the target dataset.\n",
    "\n",
    "`sst_file` --> SUM_STATS_FILE (required): Full path and the file name of the GWAS summary statistics. Multiple GWAS summary statistics files are allowed and should be separated by comma. The summary statistics file must include either BETA/OR + SE or BETA/OR + P. The formats are specified on the Github.\n",
    "\n",
    "`n_gwas` --> GWAS_SAMPLE_SIZE (required): Sample sizes of the GWAS, in the same order of the GWAS summary statistics files, separated by comma.\n",
    "\n",
    "`pop` --> POPULATION (required): Population of the GWAS sample, in the same order of the GWAS summary statistics files, separated by comma. For both the 1000 Genomes reference and the UK Biobank reference, AFR, AMR, EAS, EUR and SAS are allowed.\n",
    "\n",
    "`chrom` --> CHROM (optional): The chromosome on which the model is fitted, separated by comma, e.g., --chrom=1,3,5. Parallel computation for the 22 autosomes is recommended. Default is iterating through 22 autosomes (can be time-consuming).\n",
    "\n",
    "`phi` --> PARAM_PHI (optional): Global shrinkage parameter phi. If phi is not specified, it will be learnt from the data using a fully Bayesian approach. This usually works well for polygenic traits with very large GWAS sample sizes (hundreds of thousands of subjects). For GWAS with limited sample sizes (including most of the current disease GWAS), fixing phi to 1e-2 (for highly polygenic traits) or 1e-4 (for less polygenic traits), or doing a small-scale grid search (e.g., phi=1e-6, 1e-4, 1e-2, 1) to find the optimal phi value in the validation dataset often improves perdictive performance.\n",
    "\n",
    "`out_dir` --> OUTPUT_DIR (required): Output directory of the posterior effect size estimates.\n",
    "\n",
    "`out_name` --> OUTPUT_FILE_PREFIX (required): Output filename prefix of the posterior effect size estimates.\n",
    "\n",
    "More optional flags are explained in the Github.\n",
    "\n",
    "Reference: https://github.com/getian107/PRScsx"
   ]
  },
  {
   "cell_type": "markdown",
   "id": "d54e5a3a-6a0f-4a3f-a928-2e1022169e39",
   "metadata": {},
   "source": [
    "### Run the bash script to run PRS-CSx"
   ]
  },
  {
   "cell_type": "code",
   "execution_count": 10,
   "id": "90c7a9bf-438a-4c98-97e5-e29d5a368ecf",
   "metadata": {},
   "outputs": [
    {
     "name": "stdout",
     "output_type": "stream",
     "text": [
      "/Users/aliceyan/Documents/GitHub/prs-csx-workshop-tutorial-updated-11262024/scripts/run_prscsx.sh\n",
      "Current working directory: /Users/aliceyan/Documents/GitHub/prs-csx-workshop-tutorial-updated-11262024\n",
      "fatal: destination path 'PRScsx' already exists and is not an empty directory.\n",
      "Downloading files...\n",
      "  % Total    % Received % Xferd  Average Speed   Time    Time     Time  Current\n",
      "                                 Dload  Upload   Total   Spent    Left  Speed\n",
      "100   137  100   137    0     0    141      0 --:--:-- --:--:-- --:--:--   141\n",
      "100    17  100    17    0     0     10      0  0:00:01  0:00:01 --:--:--     0\n",
      "100   496    0   496    0     0    194      0 --:--:--  0:00:02 --:--:--     0\n",
      "100 4131M  100 4131M    0     0  29.2M      0  0:02:21  0:02:21 --:--:-- 35.4M 0:03:41 28.6M.6M      0  0:02:47  0:00:24  0:02:23 29.6M.9M      0  0:02:45  0:00:27  0:02:18 28.1M      0  0:02:35  0:00:46  0:01:49 28.5M:06  0:01:26 28.2M0:54 28.3MM      0  0:02:29  0:01:45  0:00:44 31.2M 34.9M:02:23  0:02:07  0:00:16 34.8M.0M      0  0:02:22  0:02:16  0:00:06 33.8M\n",
      "  % Total    % Received % Xferd  Average Speed   Time    Time     Time  Current\n",
      "                                 Dload  Upload   Total   Spent    Left  Speed\n",
      "100   145  100   145    0     0    462      0 --:--:-- --:--:-- --:--:--   463\n",
      "100    17  100    17    0     0     17      0  0:00:01 --:--:--  0:00:01 17000\n",
      "100   491    0   491    0     0    321      0 --:--:--  0:00:01 --:--:--   3210     0    317      0 --:--:--  0:00:01 --:--:--     0\n",
      "100 4352M  100 4352M    0     0  32.3M      0  0:02:14  0:02:14 --:--:-- 33.8M    0  0:03:11  0:00:17  0:02:54 32.1M1M      0  0:02:24  0:00:50  0:01:34 33.1M    0     0  31.1M      0  0:02:19  0:01:05  0:01:14 34.9M:02:14  0:02:14 --:--:-- 33.5M\n",
      "Download completed: 1)EAS ref: /Users/aliceyan/Documents/GitHub/prs-csx-workshop-tutorial-updated-11262024/ref/ldblk_1kg_eas.tar.gz, 2) EUR ref: /Users/aliceyan/Documents/GitHub/prs-csx-workshop-tutorial-updated-11262024/ref/ldblk_1kg_eur.tar.gz\n",
      "Extracting files...\n",
      "x ldblk_1kg_eas/\n",
      "x ldblk_1kg_eas/snpinfo_1kg_hm3\n",
      "x ldblk_1kg_eas/ldblk_1kg_chr1.hdf5\n",
      "x ldblk_1kg_eas/ldblk_1kg_chr2.hdf5\n",
      "x ldblk_1kg_eas/ldblk_1kg_chr3.hdf5\n",
      "x ldblk_1kg_eas/ldblk_1kg_chr4.hdf5\n",
      "x ldblk_1kg_eas/ldblk_1kg_chr5.hdf5\n",
      "x ldblk_1kg_eas/ldblk_1kg_chr6.hdf5\n",
      "x ldblk_1kg_eas/ldblk_1kg_chr7.hdf5\n",
      "x ldblk_1kg_eas/ldblk_1kg_chr8.hdf5\n",
      "x ldblk_1kg_eas/ldblk_1kg_chr9.hdf5\n",
      "x ldblk_1kg_eas/ldblk_1kg_chr10.hdf5\n",
      "x ldblk_1kg_eas/ldblk_1kg_chr11.hdf5\n",
      "x ldblk_1kg_eas/ldblk_1kg_chr12.hdf5\n",
      "x ldblk_1kg_eas/ldblk_1kg_chr13.hdf5\n",
      "x ldblk_1kg_eas/ldblk_1kg_chr14.hdf5\n",
      "x ldblk_1kg_eas/ldblk_1kg_chr15.hdf5\n",
      "x ldblk_1kg_eas/ldblk_1kg_chr16.hdf5\n",
      "x ldblk_1kg_eas/ldblk_1kg_chr17.hdf5\n",
      "x ldblk_1kg_eas/ldblk_1kg_chr18.hdf5\n",
      "x ldblk_1kg_eas/ldblk_1kg_chr19.hdf5\n",
      "x ldblk_1kg_eas/ldblk_1kg_chr20.hdf5\n",
      "x ldblk_1kg_eas/ldblk_1kg_chr21.hdf5\n",
      "x ldblk_1kg_eas/ldblk_1kg_chr22.hdf5\n",
      "x ldblk_1kg_eur/\n",
      "x ldblk_1kg_eur/ldblk_1kg_chr1.hdf5\n",
      "x ldblk_1kg_eur/ldblk_1kg_chr10.hdf5\n",
      "x ldblk_1kg_eur/ldblk_1kg_chr11.hdf5\n",
      "x ldblk_1kg_eur/ldblk_1kg_chr12.hdf5\n",
      "x ldblk_1kg_eur/ldblk_1kg_chr13.hdf5\n",
      "x ldblk_1kg_eur/ldblk_1kg_chr14.hdf5\n",
      "x ldblk_1kg_eur/ldblk_1kg_chr15.hdf5\n",
      "x ldblk_1kg_eur/ldblk_1kg_chr16.hdf5\n",
      "x ldblk_1kg_eur/ldblk_1kg_chr17.hdf5\n",
      "x ldblk_1kg_eur/ldblk_1kg_chr18.hdf5\n",
      "x ldblk_1kg_eur/ldblk_1kg_chr19.hdf5\n",
      "x ldblk_1kg_eur/ldblk_1kg_chr2.hdf5\n",
      "x ldblk_1kg_eur/ldblk_1kg_chr20.hdf5\n",
      "x ldblk_1kg_eur/ldblk_1kg_chr21.hdf5\n",
      "x ldblk_1kg_eur/ldblk_1kg_chr22.hdf5\n",
      "x ldblk_1kg_eur/ldblk_1kg_chr3.hdf5\n",
      "x ldblk_1kg_eur/ldblk_1kg_chr4.hdf5\n",
      "x ldblk_1kg_eur/ldblk_1kg_chr5.hdf5\n",
      "x ldblk_1kg_eur/ldblk_1kg_chr6.hdf5\n",
      "x ldblk_1kg_eur/ldblk_1kg_chr7.hdf5\n",
      "x ldblk_1kg_eur/ldblk_1kg_chr8.hdf5\n",
      "x ldblk_1kg_eur/ldblk_1kg_chr9.hdf5\n",
      "x ldblk_1kg_eur/snpinfo_1kg_hm3\n",
      "Extraction completed.\n",
      "  % Total    % Received % Xferd  Average Speed   Time    Time     Time  Current\n",
      "                                 Dload  Upload   Total   Spent    Left  Speed\n",
      "100   137  100   137    0     0    434      0 --:--:-- --:--:-- --:--:--   434\n",
      "100    17  100    17    0     0     16      0  0:00:01  0:00:01 --:--:--     0\n",
      "100  100M  100  100M    0     0  15.0M      0  0:00:06  0:00:06 --:--:-- 23.0M\n",
      "scipy is already installed.\n",
      "h5py is already installed.\n",
      "Printing PRScsx command options...\n",
      "\n",
      "\n",
      "\n",
      "PRS-CSx: a method that integrates GWAS summary statistics and external LD reference panels from multiple populations to improve cross-population polygenic prediction.\n",
      "Posterior SNP effect sizes are inferred under coupled continuous shrinkage (CS) priors across populations.\n",
      "PRS-CSx is an extension of the Bayesian polygenic prediction method PRS-CS.\n",
      "\n",
      "References: T Ge, CY Chen, Y Ni, YCA Feng, JW Smoller. Polygenic Prediction via Bayesian Regression and Continuous Shrinkage Priors.\n",
      "           Nature Communications, 10:1776, 2019.\n",
      "\n",
      "           Ruan Y, Lin YF, Feng YCA, Chen CY, Lam M, Guo Z, Stanley Global Asia Initiatives, He L, Sawa A, Martin AR, Qin S, Huang H, Ge T.\n",
      "           Improving Polygenic Prediction in Ancestrally Diverse Populations.\n",
      "           Nature Genetics, 54:573-580, 2022.\n",
      "\n",
      "Usage:\n",
      "python PRScsx.py --ref_dir=PATH_TO_REFERENCE --bim_prefix=VALIDATION_BIM_PREFIX --sst_file=SUM_STATS_FILE --n_gwas=GWAS_SAMPLE_SIZE\n",
      "                 --pop=POPULATION --out_dir=OUTPUT_DIR --out_name=OUTPUT_FILE_PREFIX\n",
      "                 [--a=PARAM_A --b=PARAM_B --phi=PARAM_PHI --n_iter=MCMC_ITERATIONS --n_burnin=MCMC_BURNIN --thin=MCMC_THINNING_FACTOR\n",
      "                  --chrom=CHROM --meta=META_FLAG --write_pst=WRITE_POSTERIOR_SAMPLES --seed=SEED]\n",
      "\n",
      "\n",
      "Running PRS-CSx on test data...\n",
      "\n",
      "\n",
      "--ref_dir=./ref\n",
      "--bim_prefix=./PRScsx/test_data/test\n",
      "--sst_file=['./PRScsx/test_data/EUR_sumstats.txt', './PRScsx/test_data/EAS_sumstats.txt']\n",
      "--a=1\n",
      "--b=0.5\n",
      "--phi=0.01\n",
      "--n_gwas=[200000, 100000]\n",
      "--pop=['EUR', 'EAS']\n",
      "--n_iter=2000\n",
      "--n_burnin=1000\n",
      "--thin=5\n",
      "--out_dir=./outputs\n",
      "--out_name=test\n",
      "--chrom=['22']\n",
      "--meta=FALSE\n",
      "--write_pst=FALSE\n",
      "--seed=None\n",
      "\n",
      "\n",
      "*** 2 discovery populations detected ***\n",
      "\n",
      "##### process chromosome 22 #####\n",
      "... parse reference file: ./ref/snpinfo_mult_1kg_hm3 ...\n",
      "... 18944 SNPs on chromosome 22 read from ./ref/snpinfo_mult_1kg_hm3 ...\n",
      "... parse bim file: ./PRScsx/test_data/test.bim ...\n",
      "... 1000 SNPs on chromosome 22 read from ./PRScsx/test_data/test.bim ...\n",
      "... parse EUR sumstats file: ./PRScsx/test_data/EUR_sumstats.txt ...\n",
      "... 1000 SNPs read from ./PRScsx/test_data/EUR_sumstats.txt ...\n",
      "... 1000 common SNPs in the EUR reference, EUR sumstats, and validation set ...\n",
      "... parse EAS sumstats file: ./PRScsx/test_data/EAS_sumstats.txt ...\n",
      "... 1000 SNPs read from ./PRScsx/test_data/EAS_sumstats.txt ...\n",
      "... 901 common SNPs in the EAS reference, EAS sumstats, and validation set ...\n",
      "... parse EUR reference LD on chromosome 22 ...\n",
      "... parse EAS reference LD on chromosome 22 ...\n",
      "... align reference LD on chromosome 22 across populations ...\n",
      "... 1000 valid SNPs across populations ...\n",
      "... MCMC ...\n",
      "--- iter-100 ---\n",
      "--- iter-200 ---\n",
      "--- iter-300 ---\n",
      "--- iter-400 ---\n",
      "--- iter-500 ---\n",
      "--- iter-600 ---\n",
      "--- iter-700 ---\n",
      "--- iter-800 ---\n",
      "--- iter-900 ---\n",
      "--- iter-1000 ---\n",
      "--- iter-1100 ---\n",
      "--- iter-1200 ---\n",
      "--- iter-1300 ---\n",
      "--- iter-1400 ---\n",
      "--- iter-1500 ---\n",
      "--- iter-1600 ---\n",
      "--- iter-1700 ---\n",
      "--- iter-1800 ---\n",
      "--- iter-1900 ---\n",
      "--- iter-2000 ---\n",
      "... Done ...\n",
      "\n",
      "\n",
      "PRS-CSx finished running: /Users/aliceyan/Documents/GitHub/prs-csx-workshop-tutorial-updated-11262024/outputs\n"
     ]
    }
   ],
   "source": [
    "print(bash_script_path)\n",
    "with open(bash_script_path, \"w\") as file:\n",
    "    file.write(bash_script_content)\n",
    "\n",
    "# Make the script executable\n",
    "!chmod +x ./scripts/run_prscsx.sh\n",
    "\n",
    "# Run the script\n",
    "!./scripts/run_prscsx.sh"
   ]
  },
  {
   "cell_type": "markdown",
   "id": "e73e137d-9cff-44e3-9ffe-8cbf209bc32e",
   "metadata": {},
   "source": [
    "### Explanation of the output of PRS-CSx\n",
    "*For each input GWAS, PRS-CSx writes `posterior SNP effect size estimates for each chromosome` to the user-specified directory. The output file contains `chromosome, rs ID, base position, A1, A2 and posterior effect size estimate for each SNP`.*\n",
    "\n",
    "*An individual-level polygenic score can be produced by concatenating output files from all chromosomes and then using PLINK's --score command (https://www.cog-genomics.org/plink/1.9/score). If polygenic scores are generated by chromosome, use the 'sum' modifier so that they can be combined into a genome-wide score.* In our tutorial, we are going to demonstrate this calculation process. We will multiply the posterior SNP effect sizes for chromosome 22 by the individual's genotype matrix to compute the PRS.\n",
    "\n",
    "### How to use PRS-CSx?\n",
    "*Given a global shrinkage parameter, the first approach calculates `one polygenic score for each discovery population` using `population-specific posterior SNP effect size estimates` and learns a `linear combination of the polygenic scores` that most accurately predicts the trait in the validation dataset. The optimal global shrinkage parameter and linear combination weights are then taken to an independent dataset, where the predictive performance of the final PRS can be assessed.* The second approach is explained in detail in the Github.\n",
    "\n",
    "Reference: https://github.com/getian107/PRScsx\n",
    "\n",
    "We will domonstrate the usage of PRS-CSx in the following part."
   ]
  },
  {
   "cell_type": "markdown",
   "id": "88e6268d-9463-4a64-aa9b-53360cae5d81",
   "metadata": {},
   "source": [
    "## Part 2. Using the results of PRS-CSx"
   ]
  },
  {
   "cell_type": "markdown",
   "id": "b13d0873",
   "metadata": {},
   "source": [
    "### Process PRS-CSx results to extract the weights for variants that exist in both populations"
   ]
  },
  {
   "cell_type": "code",
   "execution_count": null,
   "id": "be2b5dec-ae60-4fba-a10a-9ee94fecf929",
   "metadata": {},
   "outputs": [],
   "source": [
    "# Cut the PRS-CSx output files to keep only the rsid and the effect size\n",
    "!awk '{print $2 \"\\t\" $6}' ./outputs/test_EAS_pst_eff_a1_b0.5_phi1e-02_chr22.txt > ./outputs/EAS_prscsx_output_cut\n",
    "!awk '{print $2 \"\\t\" $6}' ./outputs/test_EUR_pst_eff_a1_b0.5_phi1e-02_chr22.txt > ./outputs/EUR_prscsx_output_cut"
   ]
  },
  {
   "cell_type": "code",
   "execution_count": null,
   "id": "48d9ca82-0826-484b-a214-c913c53006a5",
   "metadata": {},
   "outputs": [],
   "source": [
    "# Extract rsid column and sort the files\n",
    "!cut -f1 \"./outputs/EAS_prscsx_output_cut\" | sort > ./outputs/EAS_prscsx_output_cut_sorted\n",
    "!cut -f1 \"./outputs/EUR_prscsx_output_cut\" | sort > ./outputs/EUR_prscsx_output_cut_sorted\n",
    "\n",
    "# Find common items between the two sorted files\n",
    "!comm -12 ./outputs/EAS_prscsx_output_cut_sorted ./outputs/EUR_prscsx_output_cut_sorted > \"./outputs/overlap_risk_variants.txt\"\n",
    "\n",
    "# Clean up temporary files\n",
    "!rm ./outputs/EAS_prscsx_output_cut_sorted ./outputs/EUR_prscsx_output_cut_sorted"
   ]
  },
  {
   "cell_type": "code",
   "execution_count": 106,
   "id": "e4a249c7-90d3-44b5-8d3d-63369740e07e",
   "metadata": {},
   "outputs": [],
   "source": [
    "# Read in the overlapping variants file\n",
    "with open(\"./outputs/overlap_risk_variants.txt\", \"r\") as file:\n",
    "    overlap_var_list = [line.strip() for line in file]  # Removes newline characters\n",
    "\n",
    "# Obtain W_eas\n",
    "pd.set_option('display.float_format', lambda x: '%.10f' % x)\n",
    "EAS_var_w = pd.read_csv(\"./outputs/EAS_prscsx_output_cut\", sep = '\\t', header = None, float_precision = 'high')\n",
    "W_eas = EAS_var_w[EAS_var_w[0].isin(overlap_var_list)][[1]]\n",
    "W_eas = W_eas.values\n",
    "\n",
    "# 0btain W_eur\n",
    "EUR_var_w = pd.read_csv(\"./outputs/EUR_prscsx_output_cut\", sep = '\\t', header = None, float_precision = 'high')\n",
    "W_eur = EUR_var_w[EUR_var_w[0].isin(overlap_var_list)][[1]]\n",
    "W_eur = W_eur.values"
   ]
  },
  {
   "cell_type": "markdown",
   "id": "73522e26",
   "metadata": {},
   "source": [
    "### Prepare the genotype matrix X and phenotype matrix y in validation and testing datasets"
   ]
  },
  {
   "cell_type": "code",
   "execution_count": 108,
   "id": "16a4e048",
   "metadata": {},
   "outputs": [
    {
     "name": "stdout",
     "output_type": "stream",
     "text": [
      "[[2.         0.         0.         ... 0.         1.         0.02797135]\n",
      " [2.         0.         1.         ... 0.         0.         0.06679839]\n",
      " [1.         0.         2.         ... 1.         2.         0.05880101]\n",
      " ...\n",
      " [0.         0.         1.         ... 0.         1.         0.05491714]\n",
      " [1.         0.         2.         ... 0.         0.         0.05136679]\n",
      " [1.         0.         2.         ... 0.         1.         0.07522301]]\n",
      "(504, 902)\n"
     ]
    }
   ],
   "source": [
    "# Read in the file that has genotype and phenotype for each individual\n",
    "geno_pheno_matrix_path = cwd + \"/outputs/genotype_phenotype_matrix\"\n",
    "geno_pheno_matrix = np.loadtxt(geno_pheno_matrix_path)\n",
    "\n",
    "# The file is prepared such that it has 504 rows (individuals) x 902 columns (variants + effect sizes); \n",
    "# entries: first 901 columns: allele count for each variant; last column = simulated phenotype value for the individual\n",
    "print(geno_pheno_matrix)\n",
    "print(geno_pheno_matrix.shape)"
   ]
  },
  {
   "cell_type": "code",
   "execution_count": 110,
   "id": "8c797d8a",
   "metadata": {},
   "outputs": [],
   "source": [
    "# Separate genotype and phenotype information\n",
    "geno = geno_pheno_matrix[:, :-1] # extract all the rows, and all the columns except the last one\n",
    "phen = geno_pheno_matrix[:, -1] # extract all the rows, and only the last column\n",
    "\n",
    "# print(geno.shape)# geno is a 2D array (matrix) with 504 rows and 901 columns\n",
    "# print(geno) # output: (504, 901)\n",
    "\n",
    "# print(phen.shape) # phen is a 1D array with 504 elements\n",
    "# print(phen) # output: (504,)"
   ]
  },
  {
   "cell_type": "markdown",
   "id": "d5bfe964",
   "metadata": {},
   "source": [
    "### Split Validation and Test Datasets"
   ]
  },
  {
   "cell_type": "code",
   "execution_count": 112,
   "id": "860c7f47",
   "metadata": {},
   "outputs": [],
   "source": [
    "np.random.seed(154) # set a random seed for reproducibility\n",
    "vali_proportion = 0.4 # specify the proportion of data to be used for validation\n",
    "vali_size = int(geno.shape[0] * vali_proportion) # calculate the number of samples based on the proportion\n",
    "\n",
    "vali_indices = np.random.choice(geno.shape[0], vali_size, replace = False) \n",
    "# randomly select a unique set of indices for the validation dataset\n",
    "# np.random.choice: method to generate a random sample from a given 1D array or integer range\n",
    "# geno.shape[0]: 504 --> range to sample from (rows of geno df = total number of individuals/samples)\n",
    "# vali_size: 202 --> how many samples to pick from the range\n",
    "# replace = False --> once the index is chosen, it can't be chosen again\n",
    "\n",
    "test_indices = np.setdiff1d(np.arange(geno.shape[0]), vali_indices)\n",
    "# np.setdiff1d(A, B): function that returns the sorted, unique values in array A that are not in array B\n",
    "# A = np.arange(geno.shape[0]): an array of consecutive int ranging from 0 to geno.shape[0]-1\n",
    "# B = vali_indices: an array that contains the indices selected for validation\n",
    "\n",
    "# Extract the rows according to the indices for geno, phen, vali, and test respectively\n",
    "X_vali = geno[vali_indices] \n",
    "y_vali = phen[vali_indices]\n",
    "\n",
    "X_test = geno[test_indices]\n",
    "y_test = phen[test_indices]"
   ]
  },
  {
   "cell_type": "markdown",
   "id": "345b7676",
   "metadata": {},
   "source": [
    "### Run Regression to find weight parameters a_hat and b_hat"
   ]
  },
  {
   "cell_type": "code",
   "execution_count": 114,
   "id": "5015fc17",
   "metadata": {},
   "outputs": [
    {
     "name": "stdout",
     "output_type": "stream",
     "text": [
      "(201, 901)\n",
      "(201,)\n",
      "(901, 1)\n",
      "(901, 1)\n"
     ]
    }
   ],
   "source": [
    "# Inspect matrices' dimensions\n",
    "print(X_vali.shape)\n",
    "print(y_vali.shape)\n",
    "print(W_eas.shape)\n",
    "print(W_eur.shape)"
   ]
  },
  {
   "cell_type": "markdown",
   "id": "cd1a7a75",
   "metadata": {},
   "source": [
    "### Prepare the model input"
   ]
  },
  {
   "cell_type": "code",
   "execution_count": 116,
   "id": "ea92a142",
   "metadata": {},
   "outputs": [],
   "source": [
    "XWeas_vali = X_vali @ W_eas # based on the equation, calculate the weighted input data for the EAS population\n",
    "XWeur_vali = X_vali @ W_eur\n",
    "XW_vali = np.hstack((XWeas_vali, XWeur_vali)) \n",
    "# horizontally stack the weighted inputs for both population for model input\n",
    "\n",
    "# In essence, this block of code takes the validation data, \n",
    "# multiplies it by population-specific weight matrices, \n",
    "# and then concatenates the results side by side to form a combined input for the model."
   ]
  },
  {
   "cell_type": "markdown",
   "id": "9f5cc6fe",
   "metadata": {},
   "source": [
    "### Fit the model"
   ]
  },
  {
   "cell_type": "code",
   "execution_count": 120,
   "id": "1c710920",
   "metadata": {},
   "outputs": [],
   "source": [
    "model = LinearRegression(fit_intercept = False).fit(XW_vali, y_vali) \n",
    "\n",
    "# we usually don’t include intercept in the PRS calculation. \n",
    "# As a result the PRS calculated in this manner only reflects the relative risk, not the absolute risk."
   ]
  },
  {
   "cell_type": "markdown",
   "id": "03f84e61",
   "metadata": {},
   "source": [
    "### Obtain the regression parameters"
   ]
  },
  {
   "cell_type": "code",
   "execution_count": 122,
   "id": "151c7a9f",
   "metadata": {},
   "outputs": [
    {
     "name": "stdout",
     "output_type": "stream",
     "text": [
      "a_hat =0.9012489512118583\n",
      "b_hat =0.021498793139452202\n"
     ]
    }
   ],
   "source": [
    "a_hat = model.coef_[0]\n",
    "b_hat = model.coef_[1]\n",
    "print(f\"{a_hat =}\")\n",
    "print(f\"{b_hat =}\")"
   ]
  },
  {
   "cell_type": "markdown",
   "id": "276b5ffc",
   "metadata": {},
   "source": [
    "### Predict Phenotype on Validation and Test Datasets"
   ]
  },
  {
   "cell_type": "code",
   "execution_count": 124,
   "id": "ad8cb44b",
   "metadata": {},
   "outputs": [
    {
     "name": "stdout",
     "output_type": "stream",
     "text": [
      "(201, 1)\n",
      "(201,)\n"
     ]
    }
   ],
   "source": [
    "# Make predictions on validation data\n",
    "y_hat_vali = a_hat * XWeas_vali + b_hat * XWeur_vali\n",
    "print(y_hat_vali.shape)\n",
    "y_hat_vali = y_hat_vali.flatten() #flatten(): method that flatten a 2D matrix into a 1D array\n",
    "print(y_hat_vali.shape)"
   ]
  },
  {
   "cell_type": "code",
   "execution_count": 126,
   "id": "550cd83e",
   "metadata": {},
   "outputs": [],
   "source": [
    "# Make the prediction on test data\n",
    "XWeas_test = X_test @ W_eas\n",
    "XWeur_test = X_test @ W_eur\n",
    "y_hat = a_hat * XWeas_test + b_hat * XWeur_test\n",
    "y_hat = y_hat.flatten()"
   ]
  },
  {
   "cell_type": "markdown",
   "id": "56861aff-554e-4bfd-b2fd-bdf81025edb4",
   "metadata": {},
   "source": [
    "## Part 3. Evalutating PRS-CSx"
   ]
  },
  {
   "cell_type": "markdown",
   "id": "964a027a",
   "metadata": {},
   "source": [
    "### Plot True values against Predicted Values"
   ]
  },
  {
   "cell_type": "code",
   "execution_count": 128,
   "id": "1b8719a0",
   "metadata": {},
   "outputs": [
    {
     "data": {
      "image/png": "[encoded data removed]",
      "text/plain": [
       "<Figure size 1000x500 with 2 Axes>"
      ]
     },
     "metadata": {},
     "output_type": "display_data"
    }
   ],
   "source": [
    "plt.figure(figsize = (10, 5)) # create a blank canvas 10 in. wide x 5 inch. tall\n",
    "\n",
    "# Compute global minimum and maximum for x and y axes for setting the x & y ranges\n",
    "min_true = min(min(y_vali), min(y_test))\n",
    "max_true = max(max(y_vali), max(y_test))\n",
    "min_pred = min(min(y_hat_vali), min(y_hat))\n",
    "max_pred = max(max(y_hat_vali), max(y_hat))\n",
    "\n",
    "# For the validation cohort\n",
    "plt.subplot(1, 2, 1) # (# rows, # columns, index of this plot)\n",
    "plt.scatter(y_vali, y_hat_vali, alpha = 0.5) # alpha sets the transparency of the dot markers\n",
    "plt.title('Validation Dataset')\n",
    "plt.xlabel('True Values')\n",
    "plt.ylabel('Predicted Values')\n",
    "plt.plot([min_true, max_true], [min_pred, max_pred], 'k', linestyle='dashed') \n",
    "# draw a line that shows perfect correlation between true and predicted values\n",
    "\n",
    "# For the test cohort\n",
    "plt.subplot(1, 2, 2) \n",
    "plt.scatter(y_test, y_hat, alpha = 0.5)\n",
    "plt.title('Test Dataset')\n",
    "plt.xlabel('True Values')\n",
    "plt.ylabel('Predicted Values')\n",
    "plt.plot([min_true, max_true], [min_pred, max_pred], 'k', linestyle='dashed')\n",
    "\n",
    "# Save the figure & inspect it!\n",
    "plt.savefig(cwd + '/outputs/true_against_pred.png') \n",
    "# if you don't specify the directory, it will be where this script is"
   ]
  },
  {
   "cell_type": "markdown",
   "id": "ea814ddf",
   "metadata": {},
   "source": [
    "### Evaluate Using Deviance-based R<sup>2</sup>"
   ]
  },
  {
   "cell_type": "code",
   "execution_count": 130,
   "id": "ef99d64a",
   "metadata": {},
   "outputs": [
    {
     "name": "stdout",
     "output_type": "stream",
     "text": [
      "deviance = 0.1003197530704838\n"
     ]
    },
    {
     "name": "stderr",
     "output_type": "stream",
     "text": [
      "/Users/aliceyan/anaconda3/lib/python3.11/site-packages/sklearn/metrics/_regression.py:492: FutureWarning: 'squared' is deprecated in version 1.4 and will be removed in 1.6. To calculate the root mean squared error, use the function'root_mean_squared_error'.\n",
      "  warnings.warn(\n"
     ]
    }
   ],
   "source": [
    "# Calculate the deviance based on the y_hat for the test data \n",
    "# (= residual deviance = total squared difference between the true output values and the predicted output values)\n",
    "deviance = mean_squared_error(y_test, y_hat, squared = True) * len(y_test)\n",
    "# mean_squared_error(): calculates the mean squared error (MSE) between true and predicted values, \n",
    "# which is the average squared differences between true and predicted values\n",
    "\n",
    "# multiplying it with len(y_test) gives the total squared difference\n",
    "print(f\"{deviance = }\")"
   ]
  },
  {
   "cell_type": "code",
   "execution_count": 132,
   "id": "36047996",
   "metadata": {},
   "outputs": [
    {
     "name": "stdout",
     "output_type": "stream",
     "text": [
      "deviance_null = 0.20128019254673396\n"
     ]
    }
   ],
   "source": [
    "# Calculate null deviance = total squared difference between the true output values and their mean\n",
    "# *Null model predicts every instance with the mean of the output variable\n",
    "y_test_mean = np.mean(y_test)\n",
    "deviance_null = np.sum((y_test - y_test_mean) ** 2) \n",
    "print(f\"{deviance_null = }\")"
   ]
  },
  {
   "cell_type": "code",
   "execution_count": 134,
   "id": "5e4c55da",
   "metadata": {},
   "outputs": [
    {
     "name": "stdout",
     "output_type": "stream",
     "text": [
      "R2 = 0.5015915286985271\n"
     ]
    }
   ],
   "source": [
    "# Calculate deviance-based R2\n",
    "R2 = 1 - (deviance / deviance_null)\n",
    "print(f\"{R2 = }\")"
   ]
  }
 ],
 "metadata": {
  "kernelspec": {
   "display_name": "Python 3 (ipykernel)",
   "language": "python",
   "name": "python3"
  },
  "language_info": {
   "codemirror_mode": {
    "name": "ipython",
    "version": 3
   },
   "file_extension": ".py",
   "mimetype": "text/x-python",
   "name": "python",
   "nbconvert_exporter": "python",
   "pygments_lexer": "ipython3",
   "version": "3.11.10"
  }
 },
 "nbformat": 4,
 "nbformat_minor": 5
}
