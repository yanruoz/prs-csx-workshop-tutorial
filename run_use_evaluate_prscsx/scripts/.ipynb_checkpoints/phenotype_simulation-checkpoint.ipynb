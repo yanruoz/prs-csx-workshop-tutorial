{
 "cells": [
  {
   "cell_type": "markdown",
   "id": "3b758a1f-c016-4a00-938f-1a7c56403e35",
   "metadata": {},
   "source": [
    "# Phenotype Simulation"
   ]
  },
  {
   "cell_type": "markdown",
   "id": "8568c362-619b-4afd-8131-81176d8a1457",
   "metadata": {},
   "source": [
    "### Phenotype simulation equation\n",
    "The simulation is based on the equation:\n",
    "\n",
    "  $$y = a X \\cdot W_{eas} + b X \\cdot W_{eur} + \\varepsilon$$\n",
    "\n",
    "where\n",
    "- y is the phenotype matrix that contains the simulated phenotype for each individual.\n",
    "- X is the genotype matrix where the rows represent the individuals, the column represent variants, and each entry is the allele count for that individual at that variant.\n",
    "- $W_{eas}$ and $W_{eur}$ are the weight matrices for the East Asian and the European genotype matrices respectively, where each entry is the effect size of each variant.\n",
    "- a is the weight parameter for the East Asian genotype matrix and is set as 0.9.\n",
    "- b is the weight parameter for the European genotype matrix and set as 0.1.\n",
    "- &#949; is the non-genetic component that contributes to complex diseases."
   ]
  },
  {
   "cell_type": "markdown",
   "id": "1b4d3436-46f4-4796-b987-7633b78d5586",
   "metadata": {},
   "source": [
    "### Input files\n",
    "1. extracted_genotypes_overlap_var_only_eas.raw: The genotype matrix.\n",
    "2. overlap_risk_variants.txt: The txt file that includes overlapping risk variants between EUR and EAS populations.\n",
    "3. W_eur.txt: The weight matrix for EUR population ($W_{eur}$).\n",
    "4. W_eas.txt: The weight matrix for EAS population ($W_{eas}$).\n",
    "\n",
    "### Output files\n",
    "1. genotype_phenotype_1kgEAS.txt: The txt file with genotype (from 1kg) and phenotype (EAS population) info. This file is generated from phenotype simulation and used for the workshop. It is prepared such that it contains 504 rows (individuals) and 902 columns (variants + effect sizes). The entries for the first 901 columns are the allele counts for each variant, and the entries of the last column are the simulated phenotype values for each individual."
   ]
  },
  {
   "cell_type": "markdown",
   "id": "4ecb78dc",
   "metadata": {},
   "source": [
    "### Import Python packages:"
   ]
  },
  {
   "cell_type": "code",
   "execution_count": 14,
   "id": "7e9dd1fe",
   "metadata": {},
   "outputs": [
    {
     "name": "stderr",
     "output_type": "stream",
     "text": [
      "Matplotlib is building the font cache; this may take a moment.\n"
     ]
    }
   ],
   "source": [
    "import os\n",
    "import pandas as pd\n",
    "import numpy as np\n",
    "from sklearn.linear_model import LinearRegression\n",
    "from sklearn.metrics import r2_score\n",
    "import matplotlib.pyplot as plt\n",
    "import seaborn as sns\n",
    "from scipy.stats import pearsonr\n",
    "from mpmath import mp"
   ]
  },
  {
   "cell_type": "markdown",
   "id": "381a2d36",
   "metadata": {},
   "source": [
    "### Set the current working directory:"
   ]
  },
  {
   "cell_type": "code",
   "execution_count": 17,
   "id": "db054706",
   "metadata": {},
   "outputs": [
    {
     "name": "stdout",
     "output_type": "stream",
     "text": [
      "Current working directory: /Users/aliceyan/Documents/GitHub/prs-csx-workshop-tutorial-updated-nov2024-clean\n"
     ]
    }
   ],
   "source": [
    "# Check current working directory\n",
    "cwd = os.getcwd()\n",
    "print(f\"Current working directory: {cwd}\")"
   ]
  },
  {
   "cell_type": "markdown",
   "id": "7333d04a",
   "metadata": {},
   "source": [
    "### Set parameters"
   ]
  },
  {
   "cell_type": "code",
   "execution_count": 30,
   "id": "32aae34e",
   "metadata": {},
   "outputs": [],
   "source": [
    "# set parameters\n",
    "a = 0.9\n",
    "b = 0.1"
   ]
  },
  {
   "cell_type": "markdown",
   "id": "9184e4c2",
   "metadata": {},
   "source": [
    "### Read in the genotype file and the overlapping variants file:"
   ]
  },
  {
   "cell_type": "code",
   "execution_count": 33,
   "id": "0cf383b8",
   "metadata": {},
   "outputs": [
    {
     "name": "stderr",
     "output_type": "stream",
     "text": [
      "/var/folders/t6/t9hwvlmd445d7j4nxs521f6h0000gq/T/ipykernel_72911/1969698751.py:2: FutureWarning: The 'delim_whitespace' keyword in pd.read_csv is deprecated and will be removed in a future version. Use ``sep='\\s+'`` instead\n",
      "  X = pd.read_csv(cwd + \"/extracted_genotypes_overlap_var_only_eas.raw\", delim_whitespace=True)\n"
     ]
    }
   ],
   "source": [
    "# Read in the genotype info\n",
    "X = pd.read_csv(cwd + \"/extracted_genotypes_overlap_var_only_eas.raw\", delim_whitespace=True)"
   ]
  },
  {
   "cell_type": "code",
   "execution_count": 35,
   "id": "a0b26776",
   "metadata": {},
   "outputs": [],
   "source": [
    "# Read in the overlapping variants file\n",
    "overlap_var = pd.read_csv(cwd + '/overlap_risk_variants.txt', header = None, names=[\"rs_id\"])\n",
    "overlap_var_list = overlap_var[\"rs_id\"].tolist()"
   ]
  },
  {
   "cell_type": "markdown",
   "id": "20bc06f3",
   "metadata": {},
   "source": [
    "### Load the weight matrices for both populations:"
   ]
  },
  {
   "cell_type": "code",
   "execution_count": 38,
   "id": "2931e6a7",
   "metadata": {},
   "outputs": [
    {
     "name": "stdout",
     "output_type": "stream",
     "text": [
      "W_eas[:10] = array([ 9.712722e-04, -7.812051e-04, -1.492431e-04,  5.639565e-04,\n",
      "        6.782739e-04,  1.080665e-03,  9.390400e-04, -2.454383e-03,\n",
      "        7.731214e-04,  9.410831e-05])\n",
      "W_eur[:10] = array([ 4.900701e-04, -3.056023e-04, -2.424804e-04,  2.930826e-04,\n",
      "        3.415466e-04,  1.967975e-04,  3.136570e-04, -8.778890e-04,\n",
      "        3.581402e-04,  4.915989e-05])\n"
     ]
    }
   ],
   "source": [
    "W_eas = np.loadtxt(cwd + '/W_eas.txt', delimiter=\"\\t\")\n",
    "W_eur = np.loadtxt(cwd + '/W_eur.txt', delimiter=\"\\t\")\n",
    "print(f\"{W_eas[:10] = }\")\n",
    "print(f\"{W_eur[:10] = }\")"
   ]
  },
  {
   "cell_type": "markdown",
   "id": "ef2ece38-0dcb-457d-b184-cd21b8d669d1",
   "metadata": {},
   "source": [
    "### Set the initial phenotype matrix"
   ]
  },
  {
   "cell_type": "code",
   "execution_count": 41,
   "id": "b9b42d4e-3fe0-4e6e-a7aa-eff5fc47ef0b",
   "metadata": {},
   "outputs": [],
   "source": [
    "Y_prime_eas = a * X.dot(W_eas) + b * X.dot(W_eur)"
   ]
  },
  {
   "cell_type": "markdown",
   "id": "cdf8ec47",
   "metadata": {},
   "source": [
    "### Conduct no-standardization simulation:"
   ]
  },
  {
   "cell_type": "code",
   "execution_count": 43,
   "id": "4d558c0a",
   "metadata": {},
   "outputs": [
    {
     "name": "stdout",
     "output_type": "stream",
     "text": [
      "Y_doubleprime_eas_nonstd = 0      0.027971\n",
      "1      0.066798\n",
      "2      0.058801\n",
      "3      0.113289\n",
      "4      0.115960\n",
      "         ...   \n",
      "499    0.016631\n",
      "500    0.085134\n",
      "501    0.054917\n",
      "502    0.051367\n",
      "503    0.075223\n",
      "Length: 504, dtype: float64\n"
     ]
    }
   ],
   "source": [
    "# no standardization simulation\n",
    "mean_Y_prime_eas = Y_prime_eas.mean()\n",
    "std_Y_prime_eas = Y_prime_eas.std()\n",
    "std_envi = std_Y_prime_eas\n",
    "np.random.seed(144)\n",
    "epsilon_nonstd = np.random.normal(loc = 0, scale = std_envi, size = Y_prime_eas.shape)\n",
    "Y_doubleprime_eas_nonstd = Y_prime_eas + epsilon_nonstd\n",
    "print(f\"{Y_doubleprime_eas_nonstd = }\")\n",
    "np.savetxt('phen_simu_nonstd.txt', Y_doubleprime_eas_nonstd, fmt='%.10f', delimiter='\\t')"
   ]
  },
  {
   "cell_type": "markdown",
   "id": "bbd305ea",
   "metadata": {},
   "source": [
    "### Plot no-standardization simulation"
   ]
  },
  {
   "cell_type": "code",
   "execution_count": 45,
   "id": "e19256c7",
   "metadata": {},
   "outputs": [
    {
     "data": {
      "image/png": "[encoded data removed]",
      "text/plain": [
       "<Figure size 640x480 with 1 Axes>"
      ]
     },
     "metadata": {},
     "output_type": "display_data"
    },
    {
     "data": {
      "image/png": "[encoded data removed]",
      "text/plain": [
       "<Figure size 640x480 with 1 Axes>"
      ]
     },
     "metadata": {},
     "output_type": "display_data"
    }
   ],
   "source": [
    "plt.figure()\n",
    "plt.hist(Y_doubleprime_eas_nonstd, bins = 30, edgecolor = 'k')\n",
    "plt.xlabel('Non-standardized Simulated Phenotype Y_doubleprime_eas_nonstd')\n",
    "plt.ylabel('Frequency')\n",
    "plt.grid(True)\n",
    "plt.show()\n",
    "\n",
    "plt.figure()\n",
    "sns.kdeplot(Y_doubleprime_eas_nonstd, fill=True)\n",
    "plt.title('Density Plot of Y_doubleprime_eas_nonstd')\n",
    "plt.xlabel('Y_doubleprime_eas_nonstd')\n",
    "plt.grid(True)\n",
    "plt.show()"
   ]
  },
  {
   "cell_type": "markdown",
   "id": "ed790fcd",
   "metadata": {},
   "source": [
    "### Append the simulated phenotype to each individual"
   ]
  },
  {
   "cell_type": "code",
   "execution_count": 47,
   "id": "ee12bcae",
   "metadata": {},
   "outputs": [
    {
     "name": "stdout",
     "output_type": "stream",
     "text": [
      "     rs9605903_T  rs5746647_G  rs5747999_C  rs2845380_A  rs2247281_G  \\\n",
      "0              2            0            0            0            2   \n",
      "1              2            0            1            0            1   \n",
      "2              1            0            2            0            1   \n",
      "3              2            0            0            0            1   \n",
      "4              2            0            1            0            0   \n",
      "..           ...          ...          ...          ...          ...   \n",
      "499            2            0            1            0            0   \n",
      "500            0            0            2            0            1   \n",
      "501            0            0            1            1            2   \n",
      "502            1            0            2            1            1   \n",
      "503            1            0            2            0            2   \n",
      "\n",
      "     rs2845346_C  rs2845347_C  rs1807512_T  rs5748593_T  rs9606468_T  ...  \\\n",
      "0              0            0            2            0            2  ...   \n",
      "1              0            0            2            1            2  ...   \n",
      "2              0            0            2            0            2  ...   \n",
      "3              0            0            2            1            1  ...   \n",
      "4              0            0            1            0            1  ...   \n",
      "..           ...          ...          ...          ...          ...  ...   \n",
      "499            0            0            2            0            2  ...   \n",
      "500            0            0            2            1            1  ...   \n",
      "501            0            0            2            0            1  ...   \n",
      "502            0            0            1            0            2  ...   \n",
      "503            0            0            2            0            1  ...   \n",
      "\n",
      "     rs1990249_A  rs4581986_A  rs6005267_T  rs5752676_G  rs5752681_G  \\\n",
      "0              1            2            1            1            1   \n",
      "1              0            2            2            2            2   \n",
      "2              0            1            2            2            2   \n",
      "3              1            1            1            2            2   \n",
      "4              0            2            1            2            2   \n",
      "..           ...          ...          ...          ...          ...   \n",
      "499            1            2            1            2            2   \n",
      "500            1            2            1            2            2   \n",
      "501            1            2            1            2            2   \n",
      "502            0            2            2            2            2   \n",
      "503            0            1            2            2            2   \n",
      "\n",
      "     rs1771146_C  rs6005740_G  rs738084_A  rs1076486_C      phen  \n",
      "0              2            2           0            1  0.027971  \n",
      "1              2            2           0            0  0.066798  \n",
      "2              1            1           1            2  0.058801  \n",
      "3              0            0           0            2  0.113289  \n",
      "4              1            1           0            1  0.115960  \n",
      "..           ...          ...         ...          ...       ...  \n",
      "499            1            1           0            1  0.016631  \n",
      "500            1            1           0            1  0.085134  \n",
      "501            1            1           0            1  0.054917  \n",
      "502            2            2           0            0  0.051367  \n",
      "503            1            1           0            1  0.075223  \n",
      "\n",
      "[504 rows x 902 columns]\n"
     ]
    }
   ],
   "source": [
    "X['phen'] = Y_doubleprime_eas_nonstd\n",
    "print(X)\n",
    "np.savetxt('genotype_phenotype_1kgEAS.txt', X, fmt='%.10f', delimiter='\\t')"
   ]
  },
  {
   "cell_type": "markdown",
   "id": "68a86305",
   "metadata": {},
   "source": [
    "### Split validationa and test dataset"
   ]
  },
  {
   "cell_type": "code",
   "execution_count": 27,
   "id": "8329e7e7",
   "metadata": {},
   "outputs": [],
   "source": [
    "# Split into validation and test dataset -- Genotype Matrix X\n",
    "X_vali = X.sample(n = 201, random_state = 164)\n",
    "X_test = X.drop(X_vali.index)\n",
    "X_vali = X_vali.values\n",
    "X_test = X_test.values\n",
    "\n",
    "X_vali_var = X_vali[:, :-1]\n",
    "X_test_var = X_test[:, :-1]\n",
    "phen_vali = X_vali[:, -1]\n",
    "phen_test = X_test[:, -1]"
   ]
  },
  {
   "cell_type": "markdown",
   "id": "a6f52e79",
   "metadata": {},
   "source": [
    "### Regression Analysis on Validation Dataset"
   ]
  },
  {
   "cell_type": "code",
   "execution_count": 28,
   "id": "15830e0f",
   "metadata": {},
   "outputs": [],
   "source": [
    "# Prepare the model input\n",
    "X_XWeas_vali = X_vali_var.dot(W_eas).flatten()\n",
    "X_XWeur_vali = X_vali_var.dot(W_eur).flatten()\n",
    "X_mix = np.column_stack((X_XWeas_vali, X_XWeur_vali))\n",
    "y = phen_vali"
   ]
  },
  {
   "cell_type": "code",
   "execution_count": 29,
   "id": "dc505e6e",
   "metadata": {},
   "outputs": [
    {
     "data": {
      "text/html": [
       "<style>#sk-container-id-1 {color: black;}#sk-container-id-1 pre{padding: 0;}#sk-container-id-1 div.sk-toggleable {background-color: white;}#sk-container-id-1 label.sk-toggleable__label {cursor: pointer;display: block;width: 100%;margin-bottom: 0;padding: 0.3em;box-sizing: border-box;text-align: center;}#sk-container-id-1 label.sk-toggleable__label-arrow:before {content: \"▸\";float: left;margin-right: 0.25em;color: #696969;}#sk-container-id-1 label.sk-toggleable__label-arrow:hover:before {color: black;}#sk-container-id-1 div.sk-estimator:hover label.sk-toggleable__label-arrow:before {color: black;}#sk-container-id-1 div.sk-toggleable__content {max-height: 0;max-width: 0;overflow: hidden;text-align: left;background-color: #f0f8ff;}#sk-container-id-1 div.sk-toggleable__content pre {margin: 0.2em;color: black;border-radius: 0.25em;background-color: #f0f8ff;}#sk-container-id-1 input.sk-toggleable__control:checked~div.sk-toggleable__content {max-height: 200px;max-width: 100%;overflow: auto;}#sk-container-id-1 input.sk-toggleable__control:checked~label.sk-toggleable__label-arrow:before {content: \"▾\";}#sk-container-id-1 div.sk-estimator input.sk-toggleable__control:checked~label.sk-toggleable__label {background-color: #d4ebff;}#sk-container-id-1 div.sk-label input.sk-toggleable__control:checked~label.sk-toggleable__label {background-color: #d4ebff;}#sk-container-id-1 input.sk-hidden--visually {border: 0;clip: rect(1px 1px 1px 1px);clip: rect(1px, 1px, 1px, 1px);height: 1px;margin: -1px;overflow: hidden;padding: 0;position: absolute;width: 1px;}#sk-container-id-1 div.sk-estimator {font-family: monospace;background-color: #f0f8ff;border: 1px dotted black;border-radius: 0.25em;box-sizing: border-box;margin-bottom: 0.5em;}#sk-container-id-1 div.sk-estimator:hover {background-color: #d4ebff;}#sk-container-id-1 div.sk-parallel-item::after {content: \"\";width: 100%;border-bottom: 1px solid gray;flex-grow: 1;}#sk-container-id-1 div.sk-label:hover label.sk-toggleable__label {background-color: #d4ebff;}#sk-container-id-1 div.sk-serial::before {content: \"\";position: absolute;border-left: 1px solid gray;box-sizing: border-box;top: 0;bottom: 0;left: 50%;z-index: 0;}#sk-container-id-1 div.sk-serial {display: flex;flex-direction: column;align-items: center;background-color: white;padding-right: 0.2em;padding-left: 0.2em;position: relative;}#sk-container-id-1 div.sk-item {position: relative;z-index: 1;}#sk-container-id-1 div.sk-parallel {display: flex;align-items: stretch;justify-content: center;background-color: white;position: relative;}#sk-container-id-1 div.sk-item::before, #sk-container-id-1 div.sk-parallel-item::before {content: \"\";position: absolute;border-left: 1px solid gray;box-sizing: border-box;top: 0;bottom: 0;left: 50%;z-index: -1;}#sk-container-id-1 div.sk-parallel-item {display: flex;flex-direction: column;z-index: 1;position: relative;background-color: white;}#sk-container-id-1 div.sk-parallel-item:first-child::after {align-self: flex-end;width: 50%;}#sk-container-id-1 div.sk-parallel-item:last-child::after {align-self: flex-start;width: 50%;}#sk-container-id-1 div.sk-parallel-item:only-child::after {width: 0;}#sk-container-id-1 div.sk-dashed-wrapped {border: 1px dashed gray;margin: 0 0.4em 0.5em 0.4em;box-sizing: border-box;padding-bottom: 0.4em;background-color: white;}#sk-container-id-1 div.sk-label label {font-family: monospace;font-weight: bold;display: inline-block;line-height: 1.2em;}#sk-container-id-1 div.sk-label-container {text-align: center;}#sk-container-id-1 div.sk-container {/* jupyter's `normalize.less` sets `[hidden] { display: none; }` but bootstrap.min.css set `[hidden] { display: none !important; }` so we also need the `!important` here to be able to override the default hidden behavior on the sphinx rendered scikit-learn.org. See: https://github.com/scikit-learn/scikit-learn/issues/21755 */display: inline-block !important;position: relative;}#sk-container-id-1 div.sk-text-repr-fallback {display: none;}</style><div id=\"sk-container-id-1\" class=\"sk-top-container\"><div class=\"sk-text-repr-fallback\"><pre>LinearRegression()</pre><b>In a Jupyter environment, please rerun this cell to show the HTML representation or trust the notebook. <br />On GitHub, the HTML representation is unable to render, please try loading this page with nbviewer.org.</b></div><div class=\"sk-container\" hidden><div class=\"sk-item\"><div class=\"sk-estimator sk-toggleable\"><input class=\"sk-toggleable__control sk-hidden--visually\" id=\"sk-estimator-id-1\" type=\"checkbox\" checked><label for=\"sk-estimator-id-1\" class=\"sk-toggleable__label sk-toggleable__label-arrow\">LinearRegression</label><div class=\"sk-toggleable__content\"><pre>LinearRegression()</pre></div></div></div></div></div>"
      ],
      "text/plain": [
       "LinearRegression()"
      ]
     },
     "execution_count": 29,
     "metadata": {},
     "output_type": "execute_result"
    }
   ],
   "source": [
    "# Fit the model/Run linear regression\n",
    "model = LinearRegression()\n",
    "model.fit(X_mix, y)"
   ]
  },
  {
   "cell_type": "code",
   "execution_count": 30,
   "id": "9cef2e99",
   "metadata": {},
   "outputs": [
    {
     "name": "stdout",
     "output_type": "stream",
     "text": [
      "a_hat =0.9594512102189601\n",
      "b_hat =0.22803270155135022\n",
      "intercept =-0.014435802070696682\n"
     ]
    }
   ],
   "source": [
    "# Obtain the regression parameters\n",
    "a_hat = model.coef_[0]\n",
    "b_hat = model.coef_[1]\n",
    "intercept = model.intercept_\n",
    "print(f\"{a_hat =}\")\n",
    "print(f\"{b_hat =}\")\n",
    "print(f\"{intercept =}\")"
   ]
  },
  {
   "cell_type": "markdown",
   "id": "fcc6cf67",
   "metadata": {},
   "source": [
    "### Predicting Heights for Test Dataset"
   ]
  },
  {
   "cell_type": "code",
   "execution_count": 31,
   "id": "76a95172",
   "metadata": {},
   "outputs": [],
   "source": [
    "X_XWeas_test = X_test_var.dot(W_eas).flatten()\n",
    "X_XWeur_test = X_test_var.dot(W_eur).flatten()\n",
    "y_hat = a_hat * X_XWeas_test + b_hat * X_XWeur_test + intercept"
   ]
  },
  {
   "cell_type": "markdown",
   "id": "55e4c91d",
   "metadata": {},
   "source": [
    "### Evaluation based on the pearson correlation coefficient on the testing cohort"
   ]
  },
  {
   "cell_type": "code",
   "execution_count": 39,
   "id": "8d03a61b",
   "metadata": {},
   "outputs": [
    {
     "name": "stdout",
     "output_type": "stream",
     "text": [
      "y_hat values: [0.04887941 0.06815085 0.09594988 0.05126982 0.0582642  0.04455524\n",
      " 0.04868775 0.00777393 0.09039976 0.05200347]\n",
      "phen_test values: [0.02797135 0.06679839 0.11596031 0.03178633 0.0766022  0.03272136\n",
      " 0.05463513 0.00585905 0.10282451 0.07600735]\n",
      "r_value =0.7426771660318596\n",
      "p_value =2.3467995824006032e-54\n"
     ]
    }
   ],
   "source": [
    "print(\"y_hat values:\", y_hat[:10])\n",
    "print(\"phen_test values:\", phen_test[:10])\n",
    "\n",
    "r_value, p_value = pearsonr(y_hat, phen_test)\n",
    "print(f\"{r_value =}\")\n",
    "print(f\"{p_value =}\")"
   ]
  },
  {
   "cell_type": "code",
   "execution_count": 33,
   "id": "0b876dc9",
   "metadata": {},
   "outputs": [
    {
     "name": "stdout",
     "output_type": "stream",
     "text": [
      "r_value = 0.7426771660318596\n",
      "p_value = 2.3467995824006032275279847969833106626297818864428e-54\n"
     ]
    }
   ],
   "source": [
    "# Set the precision to a high value\n",
    "mp.dps = 50  # Decimal places of precision\n",
    "\n",
    "# Compute Pearson correlation\n",
    "r_value, p_value = pearsonr(y_hat, phen_test)\n",
    "\n",
    "# Convert p-value to high precision using mpmath\n",
    "p_value_precise = mp.mpf(p_value)\n",
    "\n",
    "# Print the r_value and precise p_value\n",
    "print(f\"r_value = {r_value}\")\n",
    "print(f\"p_value = {p_value_precise}\")"
   ]
  },
  {
   "cell_type": "code",
   "execution_count": 34,
   "id": "ba73349d",
   "metadata": {},
   "outputs": [
    {
     "name": "stdout",
     "output_type": "stream",
     "text": [
      "r2 = 0.5418591007590912\n"
     ]
    }
   ],
   "source": [
    "r2 = r2_score(phen_test, y_hat)\n",
    "print(f\"{r2 = }\")"
   ]
  }
 ],
 "metadata": {
  "kernelspec": {
   "display_name": "Python 3 (ipykernel)",
   "language": "python",
   "name": "python3"
  },
  "language_info": {
   "codemirror_mode": {
    "name": "ipython",
    "version": 3
   },
   "file_extension": ".py",
   "mimetype": "text/x-python",
   "name": "python",
   "nbconvert_exporter": "python",
   "pygments_lexer": "ipython3",
   "version": "3.11.10"
  }
 },
 "nbformat": 4,
 "nbformat_minor": 5
}
