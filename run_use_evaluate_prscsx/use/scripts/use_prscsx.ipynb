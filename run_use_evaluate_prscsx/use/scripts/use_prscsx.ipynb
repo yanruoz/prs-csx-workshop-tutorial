{
 "cells": [
  {
   "cell_type": "markdown",
   "id": "88e6268d-9463-4a64-aa9b-53360cae5d81",
   "metadata": {},
   "source": [
    "## Part 2. Using the variants' weights to estimate individual risks"
   ]
  },
  {
   "cell_type": "markdown",
   "id": "9ef096ac-0461-44ad-bd4b-d4b908cbb6f8",
   "metadata": {},
   "source": [
    "### Inputs:\n",
    "1. EAS PRS (contains population-specific posterior SNP effect size estimates for each individual): test_EAS_pst_eff_a1_b0.5_phi1e-02_chr22.txt\n",
    "2. EUR PRS (contains population-specific posterior SNP effect size estimates for each individual): test_EUR_pst_eff_a1_b0.5_phi1e-02_chr22.txt\n",
    "3. the validation dataset for genotypes: genotype_vali\n",
    "4. the test dataset for genotypes: genotype_test\n",
    "5. the validation dataset for phenotypes: phenotype_vali\n",
    "6. the test dataset for phenotypes: phenotype_test\n",
    "\n",
    "### Intermediate outputs:\n",
    "1. the cut test_EAS_pst_eff_a1_b0.5_phi1e-02_chr22.txt with only the \"rsid\" and \"effect size\" column for the EAS population: EAS_prscsx_output_cut\n",
    "2. the cut test_EUR_pst_eff_a1_b0.5_phi1e-02_chr22.txt with only the \"rsid\" and \"effect size\" column for the EUR population: EUR_prscsx_output_cut\n",
    "3. the txt file that includes overlapping risk variants between the test data of EUR and EAS populations: overlap_risk_variants.txt\n",
    "\n",
    "### Outputs:\n",
    "1. the coefficient vector for EAS population ($W_{eas}$): W_eas\n",
    "2. tge coefficient vector for EUR population ($W_{eur}$ ): W_eur\n",
    "3. the weight parameter for the EAS population: a_hat (displayed in Notebook only)\n",
    "4. the weight parameter for the EUR population: a_hat (displayed in Notebook only)\n",
    "5. the predicted phenotypes of the validation dataset: y_hat_vali"
   ]
  },
  {
   "cell_type": "markdown",
   "id": "e112ec1e-2b30-4ff7-88cd-c666ee2d2547",
   "metadata": {},
   "source": [
    "### Import Python packages"
   ]
  },
  {
   "cell_type": "code",
   "execution_count": 4,
   "id": "f63f31e8-4d2f-4938-adef-601143580f1e",
   "metadata": {},
   "outputs": [],
   "source": [
    "import pandas as pd\n",
    "import numpy as np\n",
    "from sklearn.linear_model import LinearRegression\n",
    "from sklearn.model_selection import train_test_split\n",
    "from sklearn.metrics import mean_squared_error, r2_score\n",
    "import matplotlib.pyplot as plt\n",
    "import os\n",
    "from IPython.display import Markdown"
   ]
  },
  {
   "cell_type": "markdown",
   "id": "b88e3ca2-011d-4fc6-b645-967958c2609c",
   "metadata": {},
   "source": [
    "### Set the working directory"
   ]
  },
  {
   "cell_type": "code",
   "execution_count": 6,
   "id": "0a0f6fc5-bf24-4e8f-bd41-77922667d5da",
   "metadata": {},
   "outputs": [
    {
     "name": "stdout",
     "output_type": "stream",
     "text": [
      "Current working directory: /Users/aliceyan/Documents/GitHub/prs-csx-workshop-tutorial-updated/run_use_evaluate_prscsx/use\n"
     ]
    }
   ],
   "source": [
    "# Set the working directory as the parent folder of where the script is located and save it as a variable named \"cwd\"\n",
    "cwd = os.path.dirname(os.getcwd())\n",
    "os.chdir(cwd)\n",
    "\n",
    "# Inspect the current working directory\n",
    "print(f\"Current working directory: {os.getcwd()}\")"
   ]
  },
  {
   "cell_type": "markdown",
   "id": "b13d0873",
   "metadata": {},
   "source": [
    "### Process PRS-CSx results to extract the weights for variants that exist in both populations"
   ]
  },
  {
   "cell_type": "code",
   "execution_count": 8,
   "id": "be2b5dec-ae60-4fba-a10a-9ee94fecf929",
   "metadata": {},
   "outputs": [],
   "source": [
    "# Cut the PRS-CSx output files to keep only the rsid and the effect size\n",
    "!awk '{print $2 \"\\t\" $6}' ./inputs/test_EAS_pst_eff_a1_b0.5_phi1e-02_chr22.txt > ./outputs/EAS_prscsx_output_cut\n",
    "!awk '{print $2 \"\\t\" $6}' ./inputs/test_EUR_pst_eff_a1_b0.5_phi1e-02_chr22.txt > ./outputs/EUR_prscsx_output_cut"
   ]
  },
  {
   "cell_type": "code",
   "execution_count": 9,
   "id": "48d9ca82-0826-484b-a214-c913c53006a5",
   "metadata": {},
   "outputs": [],
   "source": [
    "# Extract rsid column and sort the files\n",
    "!cut -f1 \"./outputs/EAS_prscsx_output_cut\" | sort > ./outputs/EAS_prscsx_output_cut_sorted\n",
    "!cut -f1 \"./outputs/EUR_prscsx_output_cut\" | sort > ./outputs/EUR_prscsx_output_cut_sorted\n",
    "\n",
    "# Find common items between the two sorted files\n",
    "!comm -12 ./outputs/EAS_prscsx_output_cut_sorted ./outputs/EUR_prscsx_output_cut_sorted > \"./outputs/overlap_risk_variants.txt\"\n",
    "\n",
    "# Clean up temporary files\n",
    "!rm ./outputs/EAS_prscsx_output_cut_sorted ./outputs/EUR_prscsx_output_cut_sorted"
   ]
  },
  {
   "cell_type": "code",
   "execution_count": 10,
   "id": "e4a249c7-90d3-44b5-8d3d-63369740e07e",
   "metadata": {},
   "outputs": [],
   "source": [
    "# Read in the overlapping variants file\n",
    "with open(\"./outputs/overlap_risk_variants.txt\", \"r\") as file:\n",
    "    overlap_var_list = [line.strip() for line in file]  # Removes newline characters\n",
    "\n",
    "# Obtain W_eas\n",
    "pd.set_option('display.float_format', lambda x: '%.10f' % x)\n",
    "EAS_var_w = pd.read_csv(\"./outputs/EAS_prscsx_output_cut\", sep = '\\t', header = None, float_precision = 'high')\n",
    "W_eas = EAS_var_w[EAS_var_w[0].isin(overlap_var_list)][[1]]\n",
    "W_eas = W_eas.values\n",
    "\n",
    "# 0btain W_eur\n",
    "EUR_var_w = pd.read_csv(\"./outputs/EUR_prscsx_output_cut\", sep = '\\t', header = None, float_precision = 'high')\n",
    "W_eur = EUR_var_w[EUR_var_w[0].isin(overlap_var_list)][[1]]\n",
    "W_eur = W_eur.values\n",
    "\n",
    "# Save W_eas and W_eur\n",
    "np.savetxt(\"./outputs/W_eas\", W_eas, fmt=\"%.10f\", delimiter=\"\\t\")\n",
    "np.savetxt(\"./outputs/W_eur\", W_eur, fmt=\"%.10f\", delimiter=\"\\t\")"
   ]
  },
  {
   "cell_type": "markdown",
   "id": "73522e26",
   "metadata": {},
   "source": [
    "### Load the validation datasets for genotype vector X and phenotype vector y"
   ]
  },
  {
   "cell_type": "code",
   "execution_count": 12,
   "id": "43136104-de08-401c-ba11-3876789656e5",
   "metadata": {},
   "outputs": [],
   "source": [
    "vali_geno_vector_path = cwd + \"/inputs/genotype_vali.tsv\"\n",
    "vali_pheno_vector_path = cwd + \"/inputs/phenotype_vali.tsv\"\n",
    "X_vali = np.loadtxt(vali_geno_vector_path, delimiter=\"\\t\")\n",
    "y_vali = np.loadtxt(vali_pheno_vector_path, delimiter=\"\\t\")"
   ]
  },
  {
   "cell_type": "markdown",
   "id": "345b7676",
   "metadata": {},
   "source": [
    "### Run Regression to find weight parameters a_hat and b_hat"
   ]
  },
  {
   "cell_type": "code",
   "execution_count": 14,
   "id": "5015fc17",
   "metadata": {},
   "outputs": [
    {
     "name": "stdout",
     "output_type": "stream",
     "text": [
      "(201, 901)\n",
      "(201,)\n",
      "(901, 1)\n",
      "(901, 1)\n"
     ]
    }
   ],
   "source": [
    "# Inspect data dimensions\n",
    "print(X_vali.shape)\n",
    "print(y_vali.shape)\n",
    "print(W_eas.shape)\n",
    "print(W_eur.shape)"
   ]
  },
  {
   "cell_type": "markdown",
   "id": "cd1a7a75",
   "metadata": {},
   "source": [
    "### Prepare the model input"
   ]
  },
  {
   "cell_type": "code",
   "execution_count": 16,
   "id": "ea92a142",
   "metadata": {},
   "outputs": [],
   "source": [
    "XWeas_vali = X_vali @ W_eas # based on the equation, calculate the weighted input data for the EAS population\n",
    "XWeur_vali = X_vali @ W_eur\n",
    "XW_vali = np.hstack((XWeas_vali, XWeur_vali)) \n",
    "# horizontally stack the weighted inputs for both population for model input\n",
    "\n",
    "# In essence, this block of code takes the validation data, \n",
    "# multiplies it by population-specific coefficient vectors, \n",
    "# and then concatenates the results side by side to form a combined input for the model."
   ]
  },
  {
   "cell_type": "markdown",
   "id": "9f5cc6fe",
   "metadata": {},
   "source": [
    "### Fit the model"
   ]
  },
  {
   "cell_type": "code",
   "execution_count": 18,
   "id": "1c710920",
   "metadata": {},
   "outputs": [],
   "source": [
    "model = LinearRegression(fit_intercept = False).fit(XW_vali, y_vali) \n",
    "\n",
    "# we usually don’t include intercept in the PRS calculation. \n",
    "# As a result the PRS calculated in this manner only reflects the relative risk, not the absolute risk."
   ]
  },
  {
   "cell_type": "markdown",
   "id": "03f84e61",
   "metadata": {},
   "source": [
    "### Obtain the regression parameters"
   ]
  },
  {
   "cell_type": "code",
   "execution_count": 20,
   "id": "151c7a9f",
   "metadata": {},
   "outputs": [
    {
     "name": "stdout",
     "output_type": "stream",
     "text": [
      "a_hat =0.966567462748027\n",
      "b_hat =0.06467726018612857\n"
     ]
    }
   ],
   "source": [
    "a_hat = model.coef_[0]\n",
    "b_hat = model.coef_[1]\n",
    "print(f\"{a_hat =}\")\n",
    "print(f\"{b_hat =}\")\n",
    "np.savetxt(\"./outputs/weight_parameters\", [[a_hat, b_hat]], fmt=\"%.10f\", delimiter=\"\\t\")"
   ]
  },
  {
   "cell_type": "markdown",
   "id": "9c8c17cf-c24e-485f-86bf-e87986fb0b6e",
   "metadata": {},
   "source": [
    "### Predict Phenotype on Validation Datasets"
   ]
  },
  {
   "cell_type": "code",
   "execution_count": 22,
   "id": "3526de4c-bc7a-4003-b65d-9f00ef091f4a",
   "metadata": {},
   "outputs": [
    {
     "name": "stdout",
     "output_type": "stream",
     "text": [
      "y_hat_vali.shape: (201,)\n",
      "y_hat_vali:\n",
      " [ 0.06679619  0.05423122  0.05315978  0.08290685  0.07300631  0.0679764\n",
      "  0.05492552  0.08604488  0.0708863   0.05682363  0.08017354  0.0751186\n",
      "  0.08320225  0.03592101  0.06294025  0.06434849  0.06062601  0.0488995\n",
      "  0.08803146  0.05855221  0.07837309  0.06010917  0.08693166  0.04142555\n",
      "  0.08624608  0.08567306  0.08062337  0.10498899  0.07734738  0.04989415\n",
      " -0.00395381  0.03646481  0.05039314  0.06268068  0.07537368  0.05014194\n",
      "  0.06357115  0.07347852  0.09554682  0.03882835  0.06824929  0.05928679\n",
      "  0.07099239  0.06790522  0.0304094   0.05231566  0.05488074  0.08225548\n",
      "  0.04245699  0.06240646  0.0882606   0.04473492  0.04838708  0.07043227\n",
      "  0.05451036  0.07576891  0.06265146  0.0648521   0.0744746   0.07665692\n",
      "  0.06673922  0.0586416   0.08227391  0.0661315   0.07165477  0.08666999\n",
      "  0.04593017  0.05398522  0.04981935  0.01015506  0.09139208  0.07859414\n",
      "  0.01833147  0.07449207  0.07300863  0.07487902  0.08894729  0.07780635\n",
      "  0.0465033   0.03121718  0.05177954  0.08456221  0.06354291  0.07685345\n",
      "  0.06968951  0.08256333  0.09528778  0.08826385  0.10133311  0.06510489\n",
      "  0.05467394  0.0672853   0.08976905  0.10006216  0.05562033  0.07226002\n",
      "  0.05574291  0.06137246  0.07736337  0.08813568  0.07065008  0.06378934\n",
      "  0.11131841  0.06424217  0.0517565   0.05229009  0.07216394  0.06038736\n",
      "  0.05528558  0.07495661  0.09513601  0.03748382  0.06934103  0.06558456\n",
      "  0.03852257  0.04236307  0.06047893  0.06770538  0.05742047  0.09005966\n",
      "  0.08839027  0.0564742   0.08115457  0.08230232  0.04621234  0.05593699\n",
      "  0.05614855  0.06794081  0.08075956  0.06316773  0.05383949  0.05027731\n",
      "  0.07483593  0.05860629  0.04937208  0.03877822  0.08282008  0.05773812\n",
      "  0.09156211  0.0947783   0.05146662  0.07697998  0.07119025  0.0637565\n",
      "  0.07233659  0.0778608   0.06032589  0.07219904  0.06726675  0.08720412\n",
      "  0.06737418  0.03806333  0.05958237  0.0587715   0.04146749  0.07931726\n",
      "  0.04764096  0.04264939  0.05025037  0.04194371  0.06908876  0.05475957\n",
      "  0.09428884  0.03844359  0.06373867  0.08220179  0.03603014  0.03286325\n",
      "  0.08502294  0.04898998  0.06974545  0.04573252  0.10245538  0.04648534\n",
      "  0.07075172  0.08125116  0.064069    0.06054622  0.05775821  0.06474692\n",
      "  0.05859583  0.0612067   0.04135071  0.07776698  0.0323216   0.05989358\n",
      "  0.09027394  0.08238767  0.03614138  0.05574064  0.03738802  0.04676303\n",
      "  0.06040991  0.07270203  0.08509286  0.08570321  0.09258954  0.04922225\n",
      "  0.04544221  0.05144144  0.05144841]\n"
     ]
    }
   ],
   "source": [
    "# Make predictions on validation data\n",
    "y_hat_vali = a_hat * XWeas_vali + b_hat * XWeur_vali\n",
    "y_hat_vali = y_hat_vali.flatten() #flatten(): method that flatten a 2D array into a 1D array\n",
    "print(f\"y_hat_vali.shape: {y_hat_vali.shape}\")\n",
    "print(f\"y_hat_vali:\\n {y_hat_vali}\")\n",
    "\n",
    "np.savetxt(\"./outputs/y_hat_vali\", y_hat_vali, delimiter=\"\\t\", fmt=\"%s\")"
   ]
  }
 ],
 "metadata": {
  "kernelspec": {
   "display_name": "Python 3 (ipykernel)",
   "language": "python",
   "name": "python3"
  },
  "language_info": {
   "codemirror_mode": {
    "name": "ipython",
    "version": 3
   },
   "file_extension": ".py",
   "mimetype": "text/x-python",
   "name": "python",
   "nbconvert_exporter": "python",
   "pygments_lexer": "ipython3",
   "version": "3.11.10"
  }
 },
 "nbformat": 4,
 "nbformat_minor": 5
}
