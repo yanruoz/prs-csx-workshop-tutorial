{
 "cells": [
  {
   "cell_type": "markdown",
   "id": "89cfd60a",
   "metadata": {},
   "source": [
    "# 1. Getting Started with PRS-CSx"
   ]
  },
  {
   "cell_type": "markdown",
   "id": "d8554792",
   "metadata": {},
   "source": [
    "## Setting Up PRS-CSx\n",
    "\n",
    "- **0. Create a folder to be your working directory. Let's name it `user_test` for the purpose of subsequent explanations.**\n",
    "    <br>\n",
    "\n",
    "- **1. Clone the PRS-CSx repository using the following git command**:\n",
    "    ```bash\n",
    "    git clone https://github.com/getian107/PRScsx.git\n",
    "    ```\n",
    "\n",
    "    Alternatively, download the source files from the [GitHub website](https://github.com/getian107/PRScsx) to `user_test`.\n",
    "    <br>\n",
    "\n",
    "- **2. In `user_test`, create a sub-folder named `ref`. Download the LD reference panels to `ref` and extract files**:\n",
    "    <br>\n",
    "    LD reference panels constructed using the 1000 Genomes Project phase 3 samples:\n",
    "\n",
    "    - [EAS reference](https://www.dropbox.com/s/7ek4lwwf2b7f749/ldblk_1kg_eas.tar.gz?dl=0) (~4.33G): \n",
    "        ```bash\n",
    "        wget -O ldblk_1kg_eas.tar.gz \"https://www.dropbox.com/s/7ek4lwwf2b7f749/ldblk_1kg_eas.tar.gz?dl=1\"\n",
    "        tar -zxvf ldblk_1kg_eas.tar.gz\n",
    "        ```\n",
    "\n",
    "    - [EUR reference](https://www.dropbox.com/s/mt6var0z96vb6fv/ldblk_1kg_eur.tar.gz?e=1&dl=0) (~4.56G) : \n",
    "        ```bash\n",
    "        wget -O ldblk_1kg_eur.tar.gz \"https://www.dropbox.com/s/mt6var0z96vb6fv/ldblk_1kg_eur.tar.gz?e=1&dl=0\"\n",
    "        tar -zxvf ldblk_1kg_eur.tar.gz\n",
    "        ```\n",
    "\n",
    "    Note that these files are identical to the reference panels used in PRS-CS. Therefore, there is no need to download again if you are already using PRS-CS.\n",
    "\n",
    "    For regions that don't have access to Dropbox, reference panels can be downloaded from the [alternative download site](https://personal.broadinstitute.org/hhuang/public/PRS-CSx/Reference/).\n",
    "    <br>\n",
    "    <br>\n",
    "\n",
    "- **3. Download the SNP information file and put it in the same folder containing the reference panels**:\n",
    "    - [1000 Genomes reference: SNP info](https://www.dropbox.com/s/rhi806sstvppzzz/snpinfo_mult_1kg_hm3?dl=0) (~106M): \n",
    "        ```bash\n",
    "        wget -O snpinfo_mult_1kg_hm3 \"https://www.dropbox.com/s/rhi806sstvppzzz/snpinfo_mult_1kg_hm3?dl=0\"\n",
    "        ```\n",
    "    <br>\n",
    "\n",
    "- **4. PRScsx requires Python packages `scipy` and `h5py` installed**:\n",
    "    - [scipy](https://www.scipy.org/)\n",
    "    - [h5py](https://www.h5py.org/)\n",
    "    <br>\n",
    "    <br>\n",
    "\n",
    "- **5. Once Python and its dependencies have been installed, running the following will print a list of command-line options.**:\n",
    "    ```bash\n",
    "    ./PRScsx.py --help \n",
    "    # or \n",
    "    ./PRScsx.py -h\n",
    "    ```"
   ]
  },
  {
   "cell_type": "markdown",
   "id": "e83129cf",
   "metadata": {},
   "source": [
    "## Using PRS-CSx with Test Data\n",
    "The test data contains EUR and EAS GWAS summary statistics and a bim file for 1,000 SNPs on chromosome 22. An example to use the test data:\n",
    "```bash\n",
    "python PRScsx.py --ref_dir=path_to_ref --bim_prefix=path_to_bim/test --sst_file=path_to_sumstats/EUR_sumstats.txt,path_to_sumstats/EAS_sumstats.txt --n_gwas=200000,100000 --pop=EUR,EAS --chrom=22 --phi=1e-2 --out_dir=path_to_output --out_name=test\n",
    "```\n",
    "The test data analysis would be finished in approximately 1 min when using 8Gb of RAM.\n",
    "\n",
    "Example use given that the reference panels are downloaded in a folder named `ref` and that the current working directory is where PRScsx.py is located:\n",
    "1. Create a directory to store output:\n",
    "    ```bash\n",
    "    mkdir -p ../output\n",
    "    ```\n",
    "    \n",
    "2. Run PRS-CSx: <br>\n",
    "    ```bash\n",
    "    python PRScsx.py --ref_dir=../ref --bim_prefix=./test_data/test --sst_file=./test_data/EUR_sumstats.txt,./test_data/EAS_sumstats.txt --n_gwas=200000,100000 --pop=EUR,EAS --chrom=22 --phi=1e-2 --out_dir=../output --out_name=test\n",
    "    ```\n",
    "    The output will be stored in the `output` folder created earlier."
   ]
  },
  {
   "cell_type": "markdown",
   "id": "5fe79afa",
   "metadata": {},
   "source": [
    "# 2. Preparing for Phenotype Simulation"
   ]
  },
  {
   "cell_type": "markdown",
   "id": "b892b12e",
   "metadata": {},
   "source": [
    "### Import python packages:"
   ]
  },
  {
   "cell_type": "code",
   "execution_count": 246,
   "id": "c96ca543",
   "metadata": {},
   "outputs": [],
   "source": [
    "import os\n",
    "import pandas as pd\n",
    "import numpy as np\n",
    "from sklearn.linear_model import LinearRegression\n",
    "from sklearn.metrics import r2_score\n",
    "import matplotlib.pyplot as plt\n",
    "import seaborn as sns\n",
    "from scipy.stats import pearsonr"
   ]
  },
  {
   "cell_type": "markdown",
   "id": "bc370491",
   "metadata": {},
   "source": [
    "### Set the current working directory:"
   ]
  },
  {
   "cell_type": "code",
   "execution_count": 247,
   "id": "4b41d28c",
   "metadata": {},
   "outputs": [
    {
     "name": "stdout",
     "output_type": "stream",
     "text": [
      "Current working directory: /Users/aliceyan/Desktop/user_test\n"
     ]
    }
   ],
   "source": [
    "# Set current working directory to the user_test folder\n",
    "os.chdir(\"path_to_user_test/user_test\")\n",
    "# Example: os.chdir(\"/Users/aliceyan/Desktop/user_test\") \n",
    "\n",
    "# Check current working directory\n",
    "cwd = os.getcwd()\n",
    "print(f\"Current working directory: {cwd}\")"
   ]
  },
  {
   "cell_type": "markdown",
   "id": "f047d660",
   "metadata": {},
   "source": [
    "### Cut the PRS-CSx output files to keep only the rsid and the effect size:"
   ]
  },
  {
   "cell_type": "code",
   "execution_count": 248,
   "id": "d64112d3",
   "metadata": {},
   "outputs": [],
   "source": [
    "# Define directories for input files\n",
    "prs_output_EAS = cwd + '/output/test_EAS_pst_eff_a1_b0.5_phi1e-02_chr22.txt'  \n",
    "prs_output_EUR = cwd + '/output/test_EUR_pst_eff_a1_b0.5_phi1e-02_chr22.txt'  \n",
    "\n",
    "# Define directories for output files\n",
    "cut_prs_output_EAS = cwd + '/output/EAS_var_w.txt'  \n",
    "cut_prs_output_EUR = cwd + '/output/EUR_var_w.txt' \n",
    "\n",
    "# Open the input files, cut the 2nd and 6th column, and output them to the output files\n",
    "with open(prs_output_EUR, 'r') as infile, open(cut_prs_output_EUR, 'w') as outfile:\n",
    "    for line in infile:\n",
    "        columns = line.split()\n",
    "        if len(columns) >= 6:\n",
    "            second_column = columns[1]\n",
    "            sixth_column = columns[5]\n",
    "            outfile.write(f\"{second_column}\\t{sixth_column}\\n\")\n",
    "            \n",
    "with open(prs_output_EAS, 'r') as infile, open(cut_prs_output_EAS, 'w') as outfile:\n",
    "    for line in infile:\n",
    "        columns = line.split()\n",
    "        if len(columns) >= 6:\n",
    "            second_column = columns[1]\n",
    "            sixth_column = columns[5]\n",
    "            outfile.write(f\"{second_column}\\t{sixth_column}\\n\")"
   ]
  },
  {
   "cell_type": "markdown",
   "id": "0aaf6fb5",
   "metadata": {},
   "source": [
    "Alternatively, one can do the last step in Linux:"
   ]
  },
  {
   "cell_type": "markdown",
   "id": "a2c8fcc7",
   "metadata": {},
   "source": [
    "```bash\n",
    "awk '{print $2 \"\\t\" $6}' test_EAS_pst_eff_a1_b0.5_phi1e-02_chr22.txt > EAS_var_w.txt\n",
    "awk '{print $2 \"\\t\" $6}' test_EUR_pst_eff_a1_b0.5_phi1e-02_chr22.txt > EUR_var_w.txt\n",
    "```"
   ]
  },
  {
   "cell_type": "markdown",
   "id": "a3b20aa6",
   "metadata": {},
   "source": [
    "After running either of the above code block, you should find twos file named `EAS_var_w.txt` and `EUR_var_w.txt` respectively in the `output` folder. "
   ]
  },
  {
   "cell_type": "markdown",
   "id": "02d21ddf",
   "metadata": {},
   "source": [
    "### Find overlapping variants and store the info of these variants from both populations:"
   ]
  },
  {
   "cell_type": "code",
   "execution_count": 249,
   "id": "bb398375",
   "metadata": {},
   "outputs": [],
   "source": [
    "# Read in the cut files and put them in dictionaries\n",
    "EAS = pd.read_csv(cut_prs_output_EAS, sep = '\\t', header = None)\n",
    "EUR = pd.read_csv(cut_prs_output_EUR, sep = '\\t', header = None)\n",
    "EAS_dic = dict(zip(EAS[0], EAS[1]))\n",
    "EUR_dic = dict(zip(EAS[0], EAS[1]))\n",
    "\n",
    "# Find overlapping rsid variants and create a new dictionary with these variants and a tuple of values from both dictionaries\n",
    "overlap_var = set(EAS_dic.keys()).intersection(set(EUR_dic.keys()))\n",
    "overlap_var_list = list(overlap_var)\n",
    "combined_dict = {key: (EAS_dic[key], EUR_dic[key]) for key in overlap_var}\n",
    "\n",
    "# Write the common variants to a txt file\n",
    "with open(cwd + '/output/overlap_risk_variants.txt', 'w') as f:\n",
    "    for key in overlap_var:\n",
    "        f.write(f\"{key}\\n\")"
   ]
  },
  {
   "cell_type": "markdown",
   "id": "17b0b583",
   "metadata": {},
   "source": [
    "After running the above code block, you should find a file named `overlap_risk_variants.txt` in your `output` folder."
   ]
  },
  {
   "cell_type": "markdown",
   "id": "fcb93d21",
   "metadata": {},
   "source": [
    "### Extract Genotype Information for EAS Population on chr22\n",
    "\n",
    "- **Make sure to either work under the `user_test` folder directory or use the absolute path for each file**.\n",
    "- **Download the 1kg genotype data to `user_test` folder**:\n",
    "    ```bash\n",
    "    wget https://raw.githubusercontent.com/yanruoz/prs-csx-workshop-tutorial/main/integrated_call_samples_v3.20130502.ALL.panel\n",
    "    ```\n",
    "\n",
    "- **Download `chr22_phase3_b_no_dup` bfiles to `user_test` folder and unzip**:\n",
    "    ```bash\n",
    "    wget https://github.com/yanruoz/prs-csx-workshop-tutorial/raw/main/chr22_phase3_b_no_dup.zip\n",
    "    unzip chr22_phase3_b_no_dup.zip\n",
    "    ```\n",
    "\n",
    "- **Ensure `plink2` and `plink` are downloaded**:\n",
    "    - [plink2](https://www.cog-genomics.org/plink/2.0/)\n",
    "    - [plink](https://www.cog-genomics.org/plink/)\n",
    "\n",
    "- **Extract sample ID for EAS population using Linux**:\n",
    "    ```bash\n",
    "    awk '$3 == \"EAS\" {print $1}' integrated_call_samples_v3.20130502.ALL.panel > EAS_samples.txt\n",
    "    ```\n",
    "\n",
    "- **Keep only EAS samples using `plink2`**:\n",
    "    ```bash\n",
    "    plink2 --bfile ./chr22_phase3_b_no_dup --keep EAS_samples.txt --make-bed --out chr22_phase3_b_no_dup_eas\n",
    "    ```\n",
    "\n",
    "- **Using `plink`, extract overlapping variants and recode to a format where rows = individuals, columns = ID, other info, and all variants' rsid, entries = allele count**:\n",
    "    ```bash\n",
    "    plink --bfile ./chr22_phase3_b_no_dup --extract ./output/overlap_risk_variants.txt --recode A --out ./output/extracted_genotypes_overlap_eas\n",
    "    ```\n",
    "\n",
    "- **Remove the first 6 columns to start from variant using Linux**:\n",
    "    ```bash\n",
    "    cut -d ' ' -f 7- extracted_genotypes_overlap_eas.raw > extracted_genotypes_overlap_var_only_eas.raw\n",
    "    ```"
   ]
  },
  {
   "cell_type": "markdown",
   "id": "cc23c986",
   "metadata": {},
   "source": [
    "Reorganize the extracted_genotypes_overlap_var_only_eas.raw to make it readable:"
   ]
  },
  {
   "cell_type": "markdown",
   "id": "6aa32293",
   "metadata": {},
   "source": [
    "After running the above code block, you should have `extracted_genotypes_overlap_eas.raw`, `extracted_genotypes_overlap_eas.log`, `extracted_genotypes_overlap_var_only_eas.raw` and `extracted_genotypes_overlap_var_only_eas_reorganized.raw` in your `output` folder. \n",
    "<br>We will need `extracted_genotypes_overlap_var_only_eas_reorganized.raw` for the following steps."
   ]
  },
  {
   "cell_type": "markdown",
   "id": "185ed4c4",
   "metadata": {},
   "source": [
    "### Prepare the weight matrices W_eas & W_eur"
   ]
  },
  {
   "cell_type": "code",
   "execution_count": 250,
   "id": "b0a81c2d",
   "metadata": {},
   "outputs": [],
   "source": [
    "# W_eas\n",
    "pd.set_option('display.float_format', lambda x: '%.10f' % x)\n",
    "EAS_var_w = pd.read_csv(cwd + '/output/EAS_var_w.txt', sep = '\\t', header = None, float_precision = 'high')\n",
    "W_eas = EAS_var_w[EAS_var_w[0].isin(overlap_var_list)][[1]]\n",
    "W_eas = W_eas.values\n",
    "\n",
    "# W_eur\n",
    "EUR_var_w = pd.read_csv(cwd + '/output/EUR_var_w.txt', sep = '\\t', header = None, float_precision = 'high')\n",
    "W_eur = EUR_var_w[EUR_var_w[0].isin(overlap_var_list)][[1]]\n",
    "W_eur = W_eur.values"
   ]
  },
  {
   "cell_type": "code",
   "execution_count": 251,
   "id": "fe77fd1f",
   "metadata": {},
   "outputs": [
    {
     "name": "stdout",
     "output_type": "stream",
     "text": [
      "W_eas[:10]=array([[ 9.712722e-04],\n",
      "       [-7.812051e-04],\n",
      "       [-1.492431e-04],\n",
      "       [ 5.639565e-04],\n",
      "       [ 6.782739e-04],\n",
      "       [ 1.080665e-03],\n",
      "       [ 9.390400e-04],\n",
      "       [-2.454383e-03],\n",
      "       [ 7.731214e-04],\n",
      "       [ 9.410831e-05]])\n",
      "W_eur[:10]=array([[ 4.900701e-04],\n",
      "       [-3.056023e-04],\n",
      "       [-2.424804e-04],\n",
      "       [ 2.930826e-04],\n",
      "       [ 3.415466e-04],\n",
      "       [ 1.967975e-04],\n",
      "       [ 3.136570e-04],\n",
      "       [-8.778890e-04],\n",
      "       [ 3.581402e-04],\n",
      "       [ 4.915989e-05]])\n"
     ]
    }
   ],
   "source": [
    "# Inspect the first ten lines of the W_eas and W_eur numpy arrays\n",
    "print(f'{W_eas[:10]=}')\n",
    "print(f'{W_eur[:10]=}')"
   ]
  },
  {
   "cell_type": "markdown",
   "id": "19dae9bf",
   "metadata": {},
   "source": [
    "# 3. Conduct Simulation of Phenotype Y_height_eas"
   ]
  },
  {
   "cell_type": "code",
   "execution_count": 252,
   "id": "0cf383b8",
   "metadata": {},
   "outputs": [],
   "source": [
    "# Read in the genotype info\n",
    "X = pd.read_csv(cwd + \"/output/extracted_genotypes_overlap_var_only_eas.raw\", delim_whitespace=True)"
   ]
  },
  {
   "cell_type": "code",
   "execution_count": 253,
   "id": "ef14a497",
   "metadata": {},
   "outputs": [
    {
     "name": "stdout",
     "output_type": "stream",
     "text": [
      "True\n"
     ]
    }
   ],
   "source": [
    "# Sanity check if the column in X matches variants in the weight documents\n",
    "# obtain rsid list for X\n",
    "X_rsid = X.columns.tolist()\n",
    "X_rsid = [i[:-2] for i in X_rsid]\n",
    "\n",
    "# obtain rsid lists for corresponding weights in the 2 pops\n",
    "W_eas_rsid = EAS_var_w[EAS_var_w[0].isin(overlap_var_list)][[0]]\n",
    "W_eas_rsid = W_eas_rsid[0].tolist()\n",
    "W_eur_rsid = EUR_var_w[EUR_var_w[0].isin(overlap_var_list)][[0]]\n",
    "W_eur_rsid = W_eur_rsid[0].tolist()\n",
    "\n",
    "# check if the rsid are the same in the same order\n",
    "print(W_eas_rsid == X_rsid and W_eur_rsid == X_rsid)"
   ]
  },
  {
   "cell_type": "code",
   "execution_count": 254,
   "id": "32aae34e",
   "metadata": {},
   "outputs": [],
   "source": [
    "# set parameters\n",
    "a = 0.9\n",
    "b = 0.1\n",
    "\n",
    "# initial matrix\n",
    "Y_prime_eas = a * X.dot(W_eas) + b * X.dot(W_eur)"
   ]
  },
  {
   "cell_type": "markdown",
   "id": "cdf8ec47",
   "metadata": {},
   "source": [
    "### Conduct no-standardization simulation"
   ]
  },
  {
   "cell_type": "code",
   "execution_count": 255,
   "id": "4d558c0a",
   "metadata": {},
   "outputs": [
    {
     "name": "stdout",
     "output_type": "stream",
     "text": [
      "                 0\n",
      "0    -0.0266024570\n",
      "1    -0.0253713046\n",
      "2    -0.0487623843\n",
      "3     0.0428106467\n",
      "4     0.0028800226\n",
      "...            ...\n",
      "2485 -0.0190153565\n",
      "2486 -0.0108964409\n",
      "2487  0.0989382257\n",
      "2488  0.0357687632\n",
      "2489  0.0483608420\n",
      "\n",
      "[2490 rows x 1 columns]\n"
     ]
    }
   ],
   "source": [
    "# no standardization simulation\n",
    "mean_Y_prime_eas = Y_prime_eas.mean()\n",
    "std_Y_prime_eas = Y_prime_eas.std()\n",
    "std_envi = std_Y_prime_eas\n",
    "np.random.seed(144)\n",
    "epsilon_nonstd = np.random.normal(loc = 0, scale = std_envi, size = Y_prime_eas.shape)\n",
    "Y_doubleprime_eas_nonstd = Y_prime_eas + epsilon_nonstd\n",
    "print(Y_doubleprime_eas_nonstd)\n",
    "np.savetxt('phen_simu_nonstd.txt', Y_doubleprime_eas_nonstd, fmt='%.10f', delimiter='\\t')"
   ]
  },
  {
   "cell_type": "markdown",
   "id": "bbd305ea",
   "metadata": {},
   "source": [
    "### Plot no-standardization simulation"
   ]
  },
  {
   "cell_type": "code",
   "execution_count": 256,
   "id": "e19256c7",
   "metadata": {},
   "outputs": [
    {
     "data": {
      "image/png": "[encoded data removed]",
      "text/plain": [
       "<Figure size 640x480 with 1 Axes>"
      ]
     },
     "metadata": {},
     "output_type": "display_data"
    },
    {
     "name": "stderr",
     "output_type": "stream",
     "text": [
      "/Users/aliceyan/anaconda3/lib/python3.11/site-packages/seaborn/_oldcore.py:1119: FutureWarning: use_inf_as_na option is deprecated and will be removed in a future version. Convert inf values to NaN before operating instead.\n",
      "  with pd.option_context('mode.use_inf_as_na', True):\n"
     ]
    },
    {
     "data": {
      "image/png": "[encoded data removed]",
      "text/plain": [
       "<Figure size 640x480 with 1 Axes>"
      ]
     },
     "metadata": {},
     "output_type": "display_data"
    }
   ],
   "source": [
    "plt.figure()\n",
    "plt.hist(Y_doubleprime_eas_nonstd, bins = 30, edgecolor = 'k')\n",
    "plt.xlabel('Non-standardized Simulated Phenotype Y_doubleprime_eas_nonstd')\n",
    "plt.ylabel('Frequency')\n",
    "plt.grid(True)\n",
    "plt.show()\n",
    "\n",
    "plt.figure()\n",
    "sns.kdeplot(Y_doubleprime_eas_nonstd, fill=True)\n",
    "plt.title('Density Plot of Y_doubleprime_eas_nonstd')\n",
    "plt.xlabel('Y_doubleprime_eas_nonstd')\n",
    "plt.grid(True)\n",
    "plt.show()"
   ]
  },
  {
   "cell_type": "markdown",
   "id": "ed790fcd",
   "metadata": {},
   "source": [
    "### Append the simulated phenotype to each individual"
   ]
  },
  {
   "cell_type": "code",
   "execution_count": 257,
   "id": "ee12bcae",
   "metadata": {},
   "outputs": [
    {
     "name": "stdout",
     "output_type": "stream",
     "text": [
      "      rs9605903_C  rs5746647_G  rs5747999_C  rs2845380_A  rs2247281_G  \\\n",
      "0               0            0            0            0            0   \n",
      "1               0            0            1            1            1   \n",
      "2               1            0            0            0            1   \n",
      "3               0            0            0            0            0   \n",
      "4               0            0            0            0            0   \n",
      "...           ...          ...          ...          ...          ...   \n",
      "2485            1            0            1            0            0   \n",
      "2486            0            0            1            1            1   \n",
      "2487            2            0            1            1            1   \n",
      "2488            0            0            1            0            0   \n",
      "2489            1            0            1            0            0   \n",
      "\n",
      "      rs2845346_C  rs2845347_C  rs1807512_C  rs5748593_T  rs9606468_C  ...  \\\n",
      "0               0            0            2            0            2  ...   \n",
      "1               1            1            1            1            2  ...   \n",
      "2               0            0            0            1            0  ...   \n",
      "3               0            0            2            0            2  ...   \n",
      "4               0            0            2            0            1  ...   \n",
      "...           ...          ...          ...          ...          ...  ...   \n",
      "2485            0            0            0            0            0  ...   \n",
      "2486            1            1            1            1            1  ...   \n",
      "2487            0            0            1            0            2  ...   \n",
      "2488            0            0            0            0            0  ...   \n",
      "2489            0            0            0            0            0  ...   \n",
      "\n",
      "      rs1990249_A  rs4581986_G  rs6005267_C  rs5752676_A  rs5752681_A  \\\n",
      "0               0            0            0            0            0   \n",
      "1               0            2            2            2            2   \n",
      "2               0            1            0            0            0   \n",
      "3               1            1            2            0            0   \n",
      "4               0            1            2            1            1   \n",
      "...           ...          ...          ...          ...          ...   \n",
      "2485            1            1            1            1            1   \n",
      "2486            1            1            1            0            0   \n",
      "2487            0            0            0            0            0   \n",
      "2488            0            0            0            0            0   \n",
      "2489            0            0            0            0            0   \n",
      "\n",
      "      rs1771146_T  rs6005740_G  rs738084_A  rs1076486_T          phen  \n",
      "0               0            2           2            0 -0.0266024570  \n",
      "1               0            2           0            0 -0.0253713046  \n",
      "2               1            1           0            1 -0.0487623843  \n",
      "3               2            0           0            0  0.0428106467  \n",
      "4               1            1           0            0  0.0028800226  \n",
      "...           ...          ...         ...          ...           ...  \n",
      "2485            1            1           0            0 -0.0190153565  \n",
      "2486            2            0           0            0 -0.0108964409  \n",
      "2487            0            2           0            1  0.0989382257  \n",
      "2488            0            2           0            1  0.0357687632  \n",
      "2489            0            2           0            2  0.0483608420  \n",
      "\n",
      "[2490 rows x 902 columns]\n"
     ]
    }
   ],
   "source": [
    "X['phen'] = Y_doubleprime_eas_nonstd\n",
    "print(X)\n",
    "np.savetxt('genotype_phenotype_1kgEAS.txt', X, fmt='%.10f', delimiter='\\t')"
   ]
  },
  {
   "cell_type": "markdown",
   "id": "68a86305",
   "metadata": {},
   "source": [
    "### Split validationa and test dataset"
   ]
  },
  {
   "cell_type": "code",
   "execution_count": 258,
   "id": "8329e7e7",
   "metadata": {},
   "outputs": [],
   "source": [
    "# Split into validation and test dataset -- Genotype Matrix X\n",
    "X_vali = X.sample(n = 201, random_state = 164)\n",
    "X_test = X.drop(X_vali.index)\n",
    "X_vali = X_vali.values\n",
    "X_test = X_test.values\n",
    "\n",
    "X_vali_var = X_vali[:, :-1]\n",
    "X_test_var = X_test[:, :-1]\n",
    "phen_vali = X_vali[:, -1]\n",
    "phen_test = X_test[:, -1]"
   ]
  },
  {
   "cell_type": "markdown",
   "id": "a6f52e79",
   "metadata": {},
   "source": [
    "### Regression Analysis on Validation Dataset"
   ]
  },
  {
   "cell_type": "code",
   "execution_count": 259,
   "id": "15830e0f",
   "metadata": {},
   "outputs": [],
   "source": [
    "# Prepare the model input\n",
    "X_XWeas_vali = X_vali_var.dot(W_eas).flatten()\n",
    "X_XWeur_vali = X_vali_var.dot(W_eur).flatten()\n",
    "X_mix = np.column_stack((X_XWeas_vali, X_XWeur_vali))\n",
    "y = phen_vali"
   ]
  },
  {
   "cell_type": "code",
   "execution_count": 260,
   "id": "dc505e6e",
   "metadata": {},
   "outputs": [
    {
     "data": {
      "text/html": [
       "<style>#sk-container-id-7 {color: black;}#sk-container-id-7 pre{padding: 0;}#sk-container-id-7 div.sk-toggleable {background-color: white;}#sk-container-id-7 label.sk-toggleable__label {cursor: pointer;display: block;width: 100%;margin-bottom: 0;padding: 0.3em;box-sizing: border-box;text-align: center;}#sk-container-id-7 label.sk-toggleable__label-arrow:before {content: \"▸\";float: left;margin-right: 0.25em;color: #696969;}#sk-container-id-7 label.sk-toggleable__label-arrow:hover:before {color: black;}#sk-container-id-7 div.sk-estimator:hover label.sk-toggleable__label-arrow:before {color: black;}#sk-container-id-7 div.sk-toggleable__content {max-height: 0;max-width: 0;overflow: hidden;text-align: left;background-color: #f0f8ff;}#sk-container-id-7 div.sk-toggleable__content pre {margin: 0.2em;color: black;border-radius: 0.25em;background-color: #f0f8ff;}#sk-container-id-7 input.sk-toggleable__control:checked~div.sk-toggleable__content {max-height: 200px;max-width: 100%;overflow: auto;}#sk-container-id-7 input.sk-toggleable__control:checked~label.sk-toggleable__label-arrow:before {content: \"▾\";}#sk-container-id-7 div.sk-estimator input.sk-toggleable__control:checked~label.sk-toggleable__label {background-color: #d4ebff;}#sk-container-id-7 div.sk-label input.sk-toggleable__control:checked~label.sk-toggleable__label {background-color: #d4ebff;}#sk-container-id-7 input.sk-hidden--visually {border: 0;clip: rect(1px 1px 1px 1px);clip: rect(1px, 1px, 1px, 1px);height: 1px;margin: -1px;overflow: hidden;padding: 0;position: absolute;width: 1px;}#sk-container-id-7 div.sk-estimator {font-family: monospace;background-color: #f0f8ff;border: 1px dotted black;border-radius: 0.25em;box-sizing: border-box;margin-bottom: 0.5em;}#sk-container-id-7 div.sk-estimator:hover {background-color: #d4ebff;}#sk-container-id-7 div.sk-parallel-item::after {content: \"\";width: 100%;border-bottom: 1px solid gray;flex-grow: 1;}#sk-container-id-7 div.sk-label:hover label.sk-toggleable__label {background-color: #d4ebff;}#sk-container-id-7 div.sk-serial::before {content: \"\";position: absolute;border-left: 1px solid gray;box-sizing: border-box;top: 0;bottom: 0;left: 50%;z-index: 0;}#sk-container-id-7 div.sk-serial {display: flex;flex-direction: column;align-items: center;background-color: white;padding-right: 0.2em;padding-left: 0.2em;position: relative;}#sk-container-id-7 div.sk-item {position: relative;z-index: 1;}#sk-container-id-7 div.sk-parallel {display: flex;align-items: stretch;justify-content: center;background-color: white;position: relative;}#sk-container-id-7 div.sk-item::before, #sk-container-id-7 div.sk-parallel-item::before {content: \"\";position: absolute;border-left: 1px solid gray;box-sizing: border-box;top: 0;bottom: 0;left: 50%;z-index: -1;}#sk-container-id-7 div.sk-parallel-item {display: flex;flex-direction: column;z-index: 1;position: relative;background-color: white;}#sk-container-id-7 div.sk-parallel-item:first-child::after {align-self: flex-end;width: 50%;}#sk-container-id-7 div.sk-parallel-item:last-child::after {align-self: flex-start;width: 50%;}#sk-container-id-7 div.sk-parallel-item:only-child::after {width: 0;}#sk-container-id-7 div.sk-dashed-wrapped {border: 1px dashed gray;margin: 0 0.4em 0.5em 0.4em;box-sizing: border-box;padding-bottom: 0.4em;background-color: white;}#sk-container-id-7 div.sk-label label {font-family: monospace;font-weight: bold;display: inline-block;line-height: 1.2em;}#sk-container-id-7 div.sk-label-container {text-align: center;}#sk-container-id-7 div.sk-container {/* jupyter's `normalize.less` sets `[hidden] { display: none; }` but bootstrap.min.css set `[hidden] { display: none !important; }` so we also need the `!important` here to be able to override the default hidden behavior on the sphinx rendered scikit-learn.org. See: https://github.com/scikit-learn/scikit-learn/issues/21755 */display: inline-block !important;position: relative;}#sk-container-id-7 div.sk-text-repr-fallback {display: none;}</style><div id=\"sk-container-id-7\" class=\"sk-top-container\"><div class=\"sk-text-repr-fallback\"><pre>LinearRegression()</pre><b>In a Jupyter environment, please rerun this cell to show the HTML representation or trust the notebook. <br />On GitHub, the HTML representation is unable to render, please try loading this page with nbviewer.org.</b></div><div class=\"sk-container\" hidden><div class=\"sk-item\"><div class=\"sk-estimator sk-toggleable\"><input class=\"sk-toggleable__control sk-hidden--visually\" id=\"sk-estimator-id-7\" type=\"checkbox\" checked><label for=\"sk-estimator-id-7\" class=\"sk-toggleable__label sk-toggleable__label-arrow\">LinearRegression</label><div class=\"sk-toggleable__content\"><pre>LinearRegression()</pre></div></div></div></div></div>"
      ],
      "text/plain": [
       "LinearRegression()"
      ]
     },
     "execution_count": 260,
     "metadata": {},
     "output_type": "execute_result"
    }
   ],
   "source": [
    "# Fit the model/Run linear regression\n",
    "model = LinearRegression()\n",
    "model.fit(X_mix, y)"
   ]
  },
  {
   "cell_type": "code",
   "execution_count": 261,
   "id": "9cef2e99",
   "metadata": {},
   "outputs": [
    {
     "name": "stdout",
     "output_type": "stream",
     "text": [
      "a_hat =0.7722513461735003\n",
      "b_hat =0.2123533234691285\n",
      "intercept =-0.0013426044378911056\n"
     ]
    }
   ],
   "source": [
    "# Obtain the regression parameters\n",
    "a_hat = model.coef_[0]\n",
    "b_hat = model.coef_[1]\n",
    "intercept = model.intercept_\n",
    "print(f\"{a_hat =}\")\n",
    "print(f\"{b_hat =}\")\n",
    "print(f\"{intercept =}\")"
   ]
  },
  {
   "cell_type": "markdown",
   "id": "fcc6cf67",
   "metadata": {},
   "source": [
    "### Predicting Heights for Test Dataset"
   ]
  },
  {
   "cell_type": "code",
   "execution_count": 262,
   "id": "76a95172",
   "metadata": {},
   "outputs": [],
   "source": [
    "X_XWeas_test = X_test_var.dot(W_eas).flatten()\n",
    "X_XWeur_test = X_test_var.dot(W_eur).flatten()\n",
    "y_hat = a_hat * X_XWeas_test + b_hat * X_XWeur_test + intercept"
   ]
  },
  {
   "cell_type": "markdown",
   "id": "55e4c91d",
   "metadata": {},
   "source": [
    "### Evaluation based on the pearson correlation coefficient on the testing cohort"
   ]
  },
  {
   "cell_type": "code",
   "execution_count": 263,
   "id": "8d03a61b",
   "metadata": {},
   "outputs": [
    {
     "name": "stdout",
     "output_type": "stream",
     "text": [
      "y_hat values: [-6.90612076e-05 -2.24351957e-02 -4.71343441e-02 ...  6.47404155e-04\n",
      "  6.90583072e-02  3.75864149e-02]\n",
      "phen_test values: [-0.02660246 -0.0253713  -0.04876238 ... -0.01089644  0.09893823\n",
      "  0.03576876]\n",
      "r_value =0.7115409418747982\n",
      "p_value =0.0\n"
     ]
    }
   ],
   "source": [
    "print(\"y_hat values:\", y_hat)\n",
    "print(\"phen_test values:\", phen_test)\n",
    "\n",
    "r_value, p_value = pearsonr(y_hat, phen_test)\n",
    "print(f\"{r_value =}\")\n",
    "print(f\"{p_value =}\")"
   ]
  },
  {
   "cell_type": "code",
   "execution_count": 264,
   "id": "0b876dc9",
   "metadata": {},
   "outputs": [
    {
     "name": "stdout",
     "output_type": "stream",
     "text": [
      "r_value = 0.7115409418747982\n",
      "p_value = 0.0\n"
     ]
    }
   ],
   "source": [
    "from mpmath import mp\n",
    "\n",
    "# Set the precision to a high value\n",
    "mp.dps = 50  # Decimal places of precision\n",
    "\n",
    "# Compute Pearson correlation\n",
    "r_value, p_value = pearsonr(y_hat, phen_test)\n",
    "\n",
    "# Convert p-value to high precision using mpmath\n",
    "p_value_precise = mp.mpf(p_value)\n",
    "\n",
    "# Print the r_value and precise p_value\n",
    "print(f\"r_value = {r_value}\")\n",
    "print(f\"p_value = {p_value_precise}\")"
   ]
  },
  {
   "cell_type": "code",
   "execution_count": 265,
   "id": "ba73349d",
   "metadata": {},
   "outputs": [
    {
     "name": "stdout",
     "output_type": "stream",
     "text": [
      "r2 = 0.5043501776242476\n"
     ]
    }
   ],
   "source": [
    "r2 = r2_score(phen_test, y_hat)\n",
    "print(f\"{r2 = }\")"
   ]
  }
 ],
 "metadata": {
  "kernelspec": {
   "display_name": "Python 3 (ipykernel)",
   "language": "python",
   "name": "python3"
  },
  "language_info": {
   "codemirror_mode": {
    "name": "ipython",
    "version": 3
   },
   "file_extension": ".py",
   "mimetype": "text/x-python",
   "name": "python",
   "nbconvert_exporter": "python",
   "pygments_lexer": "ipython3",
   "version": "3.11.4"
  }
 },
 "nbformat": 4,
 "nbformat_minor": 5
}
