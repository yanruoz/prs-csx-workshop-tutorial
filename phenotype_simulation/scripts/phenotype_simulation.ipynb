{
 "cells": [
  {
   "cell_type": "markdown",
   "id": "3b758a1f-c016-4a00-938f-1a7c56403e35",
   "metadata": {},
   "source": [
    "# Phenotype Simulation"
   ]
  },
  {
   "cell_type": "markdown",
   "id": "8568c362-619b-4afd-8131-81176d8a1457",
   "metadata": {},
   "source": [
    "### Phenotype simulation equation\n",
    "The simulation is based on the equation:\n",
    "\n",
    "  $$y = a X \\cdot W_{eas} + b X \\cdot W_{eur} + \\varepsilon$$\n",
    "\n",
    "where\n",
    "- $y$ is the phenotype vector that contains the simulated phenotype for each individual.\n",
    "- $X$ is the genotype vector where the rows represent the individuals, the column represent variants, and each entry is the allele count for that individual at that variant.\n",
    "- $W_{eas}$ and $W_{eur}$ are the vectors of coefficients for variants for the East Asian and the European genotype vectors respectively, where each entry is the effect size of each variant.\n",
    "- $a$ is the weight parameter for the East Asian genotype vector and is set as 0.9.\n",
    "- $b$ is the weight parameter for the European genotype vector and set as 0.1.\n",
    "- &#949; is the non-genetic component that contributes to complex diseases."
   ]
  },
  {
   "cell_type": "markdown",
   "id": "1b4d3436-46f4-4796-b987-7633b78d5586",
   "metadata": {},
   "source": [
    "### Inputs\n",
    "1. genotopye vector ($X$): genotype_vector\n",
    "3. coefficient vector for EAS population ($W_{eas}$): W_eas\n",
    "4. coefficient vector for EUR population ($W_{eur}$ ): W_eur\n",
    "\n",
    "### Outputs\n",
    "1. simulated phenotype vector ($y''$): simulated_phenotype_vector\n",
    "2. the validation dataset for genotypes: genotype_vali\n",
    "3. the test dataset for genotypes: genotype_test\n",
    "4. the validation dataset for phenotypes: phenotype_vali\n",
    "5. the test dataset for phenotypes: phenotype_test"
   ]
  },
  {
   "cell_type": "markdown",
   "id": "4ecb78dc",
   "metadata": {},
   "source": [
    "### Import Python packages:"
   ]
  },
  {
   "cell_type": "code",
   "execution_count": 131,
   "id": "7e9dd1fe",
   "metadata": {},
   "outputs": [],
   "source": [
    "import os\n",
    "import pandas as pd\n",
    "import numpy as np\n",
    "from sklearn.linear_model import LinearRegression\n",
    "from sklearn.metrics import r2_score\n",
    "import matplotlib.pyplot as plt\n",
    "import seaborn as sns\n",
    "from scipy.stats import pearsonr\n",
    "from mpmath import mp"
   ]
  },
  {
   "cell_type": "markdown",
   "id": "381a2d36",
   "metadata": {},
   "source": [
    "### Set the current working directory:"
   ]
  },
  {
   "cell_type": "code",
   "execution_count": 147,
   "id": "db054706",
   "metadata": {},
   "outputs": [
    {
     "name": "stdout",
     "output_type": "stream",
     "text": [
      "Current working directory: /Users/aliceyan/Documents/GitHub/prs-csx-workshop-tutorial-updated-12032024/phenotype_simulation/scripts\n",
      "Phenotype simulation directory: /Users/aliceyan/Documents/GitHub/prs-csx-workshop-tutorial-updated-12032024/phenotype_simulation\n"
     ]
    }
   ],
   "source": [
    "# Check current working directory - should be the scripts folder\n",
    "cwd = os.getcwd()\n",
    "print(f\"Current working directory: {cwd}\")\n",
    "\n",
    "# Obtain the phenotype simulation folder path\n",
    "pheno_simu_dir = os.path.dirname(cwd)\n",
    "print(f\"Phenotype simulation directory: {pheno_simu_dir}\")"
   ]
  },
  {
   "cell_type": "markdown",
   "id": "7333d04a",
   "metadata": {},
   "source": [
    "### Set parameters"
   ]
  },
  {
   "cell_type": "code",
   "execution_count": 149,
   "id": "32aae34e",
   "metadata": {},
   "outputs": [],
   "source": [
    "# set parameters\n",
    "a = 0.9\n",
    "b = 0.1"
   ]
  },
  {
   "cell_type": "markdown",
   "id": "9184e4c2",
   "metadata": {},
   "source": [
    "### Obtain inputs\n",
    "#### Read in the genotype info"
   ]
  },
  {
   "cell_type": "code",
   "execution_count": 151,
   "id": "0cf383b8",
   "metadata": {
    "scrolled": true
   },
   "outputs": [
    {
     "name": "stdout",
     "output_type": "stream",
     "text": [
      "X.shape = (504, 902)\n",
      "X[:10]:\n",
      "    PID  rs9605903_T  rs5746647_G  rs5747999_C  rs2845380_A  rs2247281_G  \\\n",
      "0  P001            2            0            0            0            2   \n",
      "1  P002            2            0            1            0            1   \n",
      "2  P003            1            0            2            0            1   \n",
      "3  P004            2            0            0            0            1   \n",
      "4  P005            2            0            1            0            0   \n",
      "5  P006            2            0            1            0            1   \n",
      "6  P007            2            0            1            1            2   \n",
      "7  P008            2            0            1            1            2   \n",
      "8  P009            1            0            0            1            1   \n",
      "9  P010            2            0            1            0            1   \n",
      "\n",
      "   rs2845346_C  rs2845347_C  rs1807512_T  rs5748593_T  ...  rs4546089_G  \\\n",
      "0            0            0            2            0  ...            2   \n",
      "1            0            0            2            1  ...            2   \n",
      "2            0            0            2            0  ...            1   \n",
      "3            0            0            2            1  ...            1   \n",
      "4            0            0            1            0  ...            2   \n",
      "5            0            0            2            1  ...            2   \n",
      "6            0            0            2            0  ...            1   \n",
      "7            0            0            2            0  ...            2   \n",
      "8            1            1            2            2  ...            2   \n",
      "9            0            0            2            0  ...            2   \n",
      "\n",
      "   rs1990249_A  rs4581986_A  rs6005267_T  rs5752676_G  rs5752681_G  \\\n",
      "0            1            2            1            1            1   \n",
      "1            0            2            2            2            2   \n",
      "2            0            1            2            2            2   \n",
      "3            1            1            1            2            2   \n",
      "4            0            2            1            2            2   \n",
      "5            1            2            1            2            2   \n",
      "6            0            1            1            1            1   \n",
      "7            0            2            2            2            2   \n",
      "8            1            2            2            2            2   \n",
      "9            1            2            2            2            2   \n",
      "\n",
      "   rs1771146_C  rs6005740_G  rs738084_A  rs1076486_C  \n",
      "0            2            2           0            1  \n",
      "1            2            2           0            0  \n",
      "2            1            1           1            2  \n",
      "3            0            0           0            2  \n",
      "4            1            1           0            1  \n",
      "5            1            1           0            1  \n",
      "6            2            2           1            2  \n",
      "7            2            2           1            1  \n",
      "8            2            2           0            0  \n",
      "9            2            2           0            0  \n",
      "\n",
      "[10 rows x 902 columns]\n"
     ]
    },
    {
     "name": "stderr",
     "output_type": "stream",
     "text": [
      "/var/folders/t6/t9hwvlmd445d7j4nxs521f6h0000gq/T/ipykernel_43034/2043327107.py:1: FutureWarning: The 'delim_whitespace' keyword in pd.read_csv is deprecated and will be removed in a future version. Use ``sep='\\s+'`` instead\n",
      "  X = pd.read_csv(pheno_simu_dir + \"/inputs\" + \"/genotype_vector\", delim_whitespace=True)\n"
     ]
    }
   ],
   "source": [
    "X = pd.read_csv(pheno_simu_dir + \"/inputs\" + \"/genotype_vector\", delim_whitespace=True)\n",
    "print(f\"{X.shape = }\")\n",
    "print(f\"X[:10]:\\n{X[:10]}\")"
   ]
  },
  {
   "cell_type": "markdown",
   "id": "20bc06f3",
   "metadata": {},
   "source": [
    "#### Read in coefficient vectors for both populations"
   ]
  },
  {
   "cell_type": "code",
   "execution_count": 153,
   "id": "2931e6a7",
   "metadata": {},
   "outputs": [
    {
     "name": "stdout",
     "output_type": "stream",
     "text": [
      "W_eas.shape = (901,)\n",
      "W_eur.shape = (901,)\n",
      "W_eur[:10]:\n",
      " [ 4.900701e-04 -3.056023e-04 -2.424804e-04  2.930826e-04  3.415466e-04\n",
      "  1.967975e-04  3.136570e-04 -8.778890e-04  3.581402e-04  4.915989e-05]\n",
      "W_eas[:10]:\n",
      " [ 9.712722e-04 -7.812051e-04 -1.492431e-04  5.639565e-04  6.782739e-04\n",
      "  1.080665e-03  9.390400e-04 -2.454383e-03  7.731214e-04  9.410831e-05]\n"
     ]
    }
   ],
   "source": [
    "W_eas = np.loadtxt(pheno_simu_dir + \"/inputs\" + \"/W_eas\", delimiter=\"\\t\")\n",
    "W_eur = np.loadtxt(pheno_simu_dir + \"/inputs\" + \"/W_eur\", delimiter=\"\\t\")\n",
    "print(f\"{W_eas.shape = }\")\n",
    "print(f\"{W_eur.shape = }\")\n",
    "print(f\"W_eur[:10]:\\n {W_eur[:10]}\")\n",
    "print(f\"W_eas[:10]:\\n {W_eas[:10]}\")"
   ]
  },
  {
   "cell_type": "markdown",
   "id": "ef2ece38-0dcb-457d-b184-cd21b8d669d1",
   "metadata": {},
   "source": [
    "### Set the initial phenotype vector"
   ]
  },
  {
   "cell_type": "code",
   "execution_count": 156,
   "id": "b9b42d4e-3fe0-4e6e-a7aa-eff5fc47ef0b",
   "metadata": {},
   "outputs": [],
   "source": [
    "y = a * (X.iloc[:, 1:]).dot(W_eas) + b * (X.iloc[:, 1:]).dot(W_eur)"
   ]
  },
  {
   "cell_type": "markdown",
   "id": "cdf8ec47",
   "metadata": {},
   "source": [
    "### Conduct no-standardization simulation:"
   ]
  },
  {
   "cell_type": "code",
   "execution_count": 158,
   "id": "4d558c0a",
   "metadata": {},
   "outputs": [
    {
     "name": "stdout",
     "output_type": "stream",
     "text": [
      "simulated_y:\n",
      "      PID      phen\n",
      "0    P001  0.027971\n",
      "1    P002  0.066798\n",
      "2    P003  0.058801\n",
      "3    P004  0.113289\n",
      "4    P005  0.115960\n",
      "..    ...       ...\n",
      "499  P500  0.016631\n",
      "500  P501  0.085134\n",
      "501  P502  0.054917\n",
      "502  P503  0.051367\n",
      "503  P504  0.075223\n",
      "\n",
      "[504 rows x 2 columns]\n"
     ]
    }
   ],
   "source": [
    "# no standardization simulation\n",
    "mean_y = y.mean()\n",
    "std_y = y.std()\n",
    "std_envi = std_y\n",
    "np.random.seed(144)\n",
    "epsilon_nonstd = np.random.normal(loc = 0, scale = std_envi, size = y.shape)\n",
    "simulated_y = y + epsilon_nonstd\n",
    "\n",
    "# add identifier column (P001 to P504)\n",
    "simulated_y = simulated_y.to_frame()\n",
    "num_rows = simulated_y.shape[0]\n",
    "pids = [f\"P{str(i).zfill(3)}\" for i in range(1, num_rows + 1)]\n",
    "simulated_y.insert(0, \"PID\", pids)\n",
    "simulated_y.rename(columns={simulated_y.columns[1]: \"phen\"}, inplace=True)\n",
    "\n",
    "print(f\"simulated_y:\\n{simulated_y}\")\n",
    "simulated_y.to_csv(pheno_simu_dir + \"/outputs/simulated_phenotype_vector\", sep='\\t', index=False)"
   ]
  },
  {
   "cell_type": "markdown",
   "id": "bbd305ea",
   "metadata": {},
   "source": [
    "### Plot no-standardization simulation"
   ]
  },
  {
   "cell_type": "code",
   "execution_count": 160,
   "id": "e19256c7",
   "metadata": {},
   "outputs": [
    {
     "data": {
      "image/png": "[encoded data removed]",
      "text/plain": [
       "<Figure size 640x480 with 1 Axes>"
      ]
     },
     "metadata": {},
     "output_type": "display_data"
    },
    {
     "data": {
      "image/png": "[encoded data removed]",
      "text/plain": [
       "<Figure size 640x480 with 1 Axes>"
      ]
     },
     "metadata": {},
     "output_type": "display_data"
    }
   ],
   "source": [
    "plt.figure()\n",
    "plt.hist(simulated_y_phen_only, bins = 30, edgecolor = 'k')\n",
    "plt.xlabel('Simulated Phenotype (non-standardized)')\n",
    "plt.ylabel('Frequency')\n",
    "plt.grid(True)\n",
    "plt.show()\n",
    "\n",
    "plt.figure()\n",
    "sns.kdeplot(simulated_y_phen_only, fill=True)\n",
    "plt.title('Density Plot of Simulated Phenotype (non-standardized)')\n",
    "plt.xlabel('Simulated Phenotype (non-standardized)')\n",
    "plt.grid(True)\n",
    "plt.show()"
   ]
  },
  {
   "cell_type": "markdown",
   "id": "68a86305",
   "metadata": {},
   "source": [
    "### Split validation and test dataset"
   ]
  },
  {
   "cell_type": "code",
   "execution_count": 201,
   "id": "6f08d013-d047-426c-b7b0-1133e84f5eb0",
   "metadata": {},
   "outputs": [
    {
     "name": "stdout",
     "output_type": "stream",
     "text": [
      "X_vali.shape: (201, 901)\n",
      "X_test.shape: (303, 901)\n",
      "y_vali.shape: (201, 1)\n",
      "y_test.shape: (303, 1)\n",
      "X_vali[:5]:\n",
      "     rs9605903_T  rs5746647_G  rs5747999_C  rs2845380_A  rs2247281_G  \\\n",
      "1             2            0            1            0            1   \n",
      "6             2            0            1            1            2   \n",
      "9             2            0            1            0            1   \n",
      "13            2            0            1            1            2   \n",
      "17            2            0            2            0            1   \n",
      "\n",
      "    rs2845346_C  rs2845347_C  rs1807512_T  rs5748593_T  rs9606468_T  ...  \\\n",
      "1             0            0            2            1            2  ...   \n",
      "6             0            0            2            0            2  ...   \n",
      "9             0            0            2            0            2  ...   \n",
      "13            0            0            2            0            2  ...   \n",
      "17            0            0            2            0            2  ...   \n",
      "\n",
      "    rs4546089_G  rs1990249_A  rs4581986_A  rs6005267_T  rs5752676_G  \\\n",
      "1             2            0            2            2            2   \n",
      "6             1            0            1            1            1   \n",
      "9             2            1            2            2            2   \n",
      "13            2            1            2            1            2   \n",
      "17            2            1            2            0            2   \n",
      "\n",
      "    rs5752681_G  rs1771146_C  rs6005740_G  rs738084_A  rs1076486_C  \n",
      "1             2            2            2           0            0  \n",
      "6             1            2            2           1            2  \n",
      "9             2            2            2           0            0  \n",
      "13            2            1            1           1            2  \n",
      "17            2            1            1           0            2  \n",
      "\n",
      "[5 rows x 901 columns]\n",
      "simulated_y_vali[:5]:\n",
      "        phen\n",
      "0  0.027971\n",
      "2  0.058801\n",
      "4  0.115960\n",
      "7  0.076602\n",
      "9  0.054635\n"
     ]
    }
   ],
   "source": [
    "# Set the random seed for reproducibility\n",
    "np.random.seed(164)\n",
    "\n",
    "# Shuffle the list\n",
    "np.random.shuffle(pids)\n",
    "\n",
    "# Split into validation and test datasets\n",
    "pids_vali = pids[:201]  # First 201 items for validation\n",
    "pids_test = pids[201:]  # Remaining items for test\n",
    "\n",
    "X_vali = X[X['PID'].isin(pids_vali)].iloc[:, 1:]\n",
    "X_test = X[X['PID'].isin(pids_test)].iloc[:, 1:]\n",
    "\n",
    "y_vali = simulated_y[simulated_y['PID'].isin(pids_vali)].iloc[:, 1:]\n",
    "y_test = simulated_y[simulated_y['PID'].isin(pids_test)].iloc[:, 1:]\n",
    "\n",
    "# Inspect data\n",
    "print(f\"X_vali.shape: {X_vali.shape}\")\n",
    "print(f\"X_test.shape: {X_test.shape}\")\n",
    "print(f\"y_vali.shape: {simulated_y_vali.shape}\")\n",
    "print(f\"y_test.shape: {simulated_y_test.shape}\")\n",
    "\n",
    "print(f\"X_vali[:5]:\\n {X_vali[:5]}\")\n",
    "print(f\"simulated_y_vali[:5]:\\n {simulated_y_vali[:5]}\")\n",
    "\n",
    "# Save data\n",
    "np.savetxt(pheno_simu_dir + \"/outputs/genotype_vali.tsv\", X_vali, fmt=\"%.10f\", delimiter=\"\\t\")\n",
    "np.savetxt(pheno_simu_dir + \"/outputs/genotype_test.tsv\", X_test, fmt=\"%.10f\", delimiter=\"\\t\")\n",
    "np.savetxt(pheno_simu_dir + \"/outputs/phenotype_vali.tsv\", y_vali, fmt=\"%.10f\", delimiter=\"\\t\")\n",
    "np.savetxt(pheno_simu_dir + \"/outputs/phenotype_test.tsv\", y_test, fmt=\"%.10f\", delimiter=\"\\t\")"
   ]
  },
  {
   "cell_type": "markdown",
   "id": "a6f52e79",
   "metadata": {},
   "source": [
    "### Regression Analysis on Validation Dataset"
   ]
  },
  {
   "cell_type": "code",
   "execution_count": 203,
   "id": "15830e0f",
   "metadata": {},
   "outputs": [],
   "source": [
    "# Prepare the model input\n",
    "X_XWeas_vali = X_vali.values.dot(W_eas).flatten()\n",
    "X_XWeur_vali = X_vali.values.dot(W_eur).flatten()\n",
    "X_mix = np.column_stack((X_XWeas_vali, X_XWeur_vali))"
   ]
  },
  {
   "cell_type": "code",
   "execution_count": 205,
   "id": "dc505e6e",
   "metadata": {},
   "outputs": [
    {
     "data": {
      "text/html": [
       "<style>#sk-container-id-1 {\n",
       "  /* Definition of color scheme common for light and dark mode */\n",
       "  --sklearn-color-text: black;\n",
       "  --sklearn-color-line: gray;\n",
       "  /* Definition of color scheme for unfitted estimators */\n",
       "  --sklearn-color-unfitted-level-0: #fff5e6;\n",
       "  --sklearn-color-unfitted-level-1: #f6e4d2;\n",
       "  --sklearn-color-unfitted-level-2: #ffe0b3;\n",
       "  --sklearn-color-unfitted-level-3: chocolate;\n",
       "  /* Definition of color scheme for fitted estimators */\n",
       "  --sklearn-color-fitted-level-0: #f0f8ff;\n",
       "  --sklearn-color-fitted-level-1: #d4ebff;\n",
       "  --sklearn-color-fitted-level-2: #b3dbfd;\n",
       "  --sklearn-color-fitted-level-3: cornflowerblue;\n",
       "\n",
       "  /* Specific color for light theme */\n",
       "  --sklearn-color-text-on-default-background: var(--sg-text-color, var(--theme-code-foreground, var(--jp-content-font-color1, black)));\n",
       "  --sklearn-color-background: var(--sg-background-color, var(--theme-background, var(--jp-layout-color0, white)));\n",
       "  --sklearn-color-border-box: var(--sg-text-color, var(--theme-code-foreground, var(--jp-content-font-color1, black)));\n",
       "  --sklearn-color-icon: #696969;\n",
       "\n",
       "  @media (prefers-color-scheme: dark) {\n",
       "    /* Redefinition of color scheme for dark theme */\n",
       "    --sklearn-color-text-on-default-background: var(--sg-text-color, var(--theme-code-foreground, var(--jp-content-font-color1, white)));\n",
       "    --sklearn-color-background: var(--sg-background-color, var(--theme-background, var(--jp-layout-color0, #111)));\n",
       "    --sklearn-color-border-box: var(--sg-text-color, var(--theme-code-foreground, var(--jp-content-font-color1, white)));\n",
       "    --sklearn-color-icon: #878787;\n",
       "  }\n",
       "}\n",
       "\n",
       "#sk-container-id-1 {\n",
       "  color: var(--sklearn-color-text);\n",
       "}\n",
       "\n",
       "#sk-container-id-1 pre {\n",
       "  padding: 0;\n",
       "}\n",
       "\n",
       "#sk-container-id-1 input.sk-hidden--visually {\n",
       "  border: 0;\n",
       "  clip: rect(1px 1px 1px 1px);\n",
       "  clip: rect(1px, 1px, 1px, 1px);\n",
       "  height: 1px;\n",
       "  margin: -1px;\n",
       "  overflow: hidden;\n",
       "  padding: 0;\n",
       "  position: absolute;\n",
       "  width: 1px;\n",
       "}\n",
       "\n",
       "#sk-container-id-1 div.sk-dashed-wrapped {\n",
       "  border: 1px dashed var(--sklearn-color-line);\n",
       "  margin: 0 0.4em 0.5em 0.4em;\n",
       "  box-sizing: border-box;\n",
       "  padding-bottom: 0.4em;\n",
       "  background-color: var(--sklearn-color-background);\n",
       "}\n",
       "\n",
       "#sk-container-id-1 div.sk-container {\n",
       "  /* jupyter's `normalize.less` sets `[hidden] { display: none; }`\n",
       "     but bootstrap.min.css set `[hidden] { display: none !important; }`\n",
       "     so we also need the `!important` here to be able to override the\n",
       "     default hidden behavior on the sphinx rendered scikit-learn.org.\n",
       "     See: https://github.com/scikit-learn/scikit-learn/issues/21755 */\n",
       "  display: inline-block !important;\n",
       "  position: relative;\n",
       "}\n",
       "\n",
       "#sk-container-id-1 div.sk-text-repr-fallback {\n",
       "  display: none;\n",
       "}\n",
       "\n",
       "div.sk-parallel-item,\n",
       "div.sk-serial,\n",
       "div.sk-item {\n",
       "  /* draw centered vertical line to link estimators */\n",
       "  background-image: linear-gradient(var(--sklearn-color-text-on-default-background), var(--sklearn-color-text-on-default-background));\n",
       "  background-size: 2px 100%;\n",
       "  background-repeat: no-repeat;\n",
       "  background-position: center center;\n",
       "}\n",
       "\n",
       "/* Parallel-specific style estimator block */\n",
       "\n",
       "#sk-container-id-1 div.sk-parallel-item::after {\n",
       "  content: \"\";\n",
       "  width: 100%;\n",
       "  border-bottom: 2px solid var(--sklearn-color-text-on-default-background);\n",
       "  flex-grow: 1;\n",
       "}\n",
       "\n",
       "#sk-container-id-1 div.sk-parallel {\n",
       "  display: flex;\n",
       "  align-items: stretch;\n",
       "  justify-content: center;\n",
       "  background-color: var(--sklearn-color-background);\n",
       "  position: relative;\n",
       "}\n",
       "\n",
       "#sk-container-id-1 div.sk-parallel-item {\n",
       "  display: flex;\n",
       "  flex-direction: column;\n",
       "}\n",
       "\n",
       "#sk-container-id-1 div.sk-parallel-item:first-child::after {\n",
       "  align-self: flex-end;\n",
       "  width: 50%;\n",
       "}\n",
       "\n",
       "#sk-container-id-1 div.sk-parallel-item:last-child::after {\n",
       "  align-self: flex-start;\n",
       "  width: 50%;\n",
       "}\n",
       "\n",
       "#sk-container-id-1 div.sk-parallel-item:only-child::after {\n",
       "  width: 0;\n",
       "}\n",
       "\n",
       "/* Serial-specific style estimator block */\n",
       "\n",
       "#sk-container-id-1 div.sk-serial {\n",
       "  display: flex;\n",
       "  flex-direction: column;\n",
       "  align-items: center;\n",
       "  background-color: var(--sklearn-color-background);\n",
       "  padding-right: 1em;\n",
       "  padding-left: 1em;\n",
       "}\n",
       "\n",
       "\n",
       "/* Toggleable style: style used for estimator/Pipeline/ColumnTransformer box that is\n",
       "clickable and can be expanded/collapsed.\n",
       "- Pipeline and ColumnTransformer use this feature and define the default style\n",
       "- Estimators will overwrite some part of the style using the `sk-estimator` class\n",
       "*/\n",
       "\n",
       "/* Pipeline and ColumnTransformer style (default) */\n",
       "\n",
       "#sk-container-id-1 div.sk-toggleable {\n",
       "  /* Default theme specific background. It is overwritten whether we have a\n",
       "  specific estimator or a Pipeline/ColumnTransformer */\n",
       "  background-color: var(--sklearn-color-background);\n",
       "}\n",
       "\n",
       "/* Toggleable label */\n",
       "#sk-container-id-1 label.sk-toggleable__label {\n",
       "  cursor: pointer;\n",
       "  display: block;\n",
       "  width: 100%;\n",
       "  margin-bottom: 0;\n",
       "  padding: 0.5em;\n",
       "  box-sizing: border-box;\n",
       "  text-align: center;\n",
       "}\n",
       "\n",
       "#sk-container-id-1 label.sk-toggleable__label-arrow:before {\n",
       "  /* Arrow on the left of the label */\n",
       "  content: \"▸\";\n",
       "  float: left;\n",
       "  margin-right: 0.25em;\n",
       "  color: var(--sklearn-color-icon);\n",
       "}\n",
       "\n",
       "#sk-container-id-1 label.sk-toggleable__label-arrow:hover:before {\n",
       "  color: var(--sklearn-color-text);\n",
       "}\n",
       "\n",
       "/* Toggleable content - dropdown */\n",
       "\n",
       "#sk-container-id-1 div.sk-toggleable__content {\n",
       "  max-height: 0;\n",
       "  max-width: 0;\n",
       "  overflow: hidden;\n",
       "  text-align: left;\n",
       "  /* unfitted */\n",
       "  background-color: var(--sklearn-color-unfitted-level-0);\n",
       "}\n",
       "\n",
       "#sk-container-id-1 div.sk-toggleable__content.fitted {\n",
       "  /* fitted */\n",
       "  background-color: var(--sklearn-color-fitted-level-0);\n",
       "}\n",
       "\n",
       "#sk-container-id-1 div.sk-toggleable__content pre {\n",
       "  margin: 0.2em;\n",
       "  border-radius: 0.25em;\n",
       "  color: var(--sklearn-color-text);\n",
       "  /* unfitted */\n",
       "  background-color: var(--sklearn-color-unfitted-level-0);\n",
       "}\n",
       "\n",
       "#sk-container-id-1 div.sk-toggleable__content.fitted pre {\n",
       "  /* unfitted */\n",
       "  background-color: var(--sklearn-color-fitted-level-0);\n",
       "}\n",
       "\n",
       "#sk-container-id-1 input.sk-toggleable__control:checked~div.sk-toggleable__content {\n",
       "  /* Expand drop-down */\n",
       "  max-height: 200px;\n",
       "  max-width: 100%;\n",
       "  overflow: auto;\n",
       "}\n",
       "\n",
       "#sk-container-id-1 input.sk-toggleable__control:checked~label.sk-toggleable__label-arrow:before {\n",
       "  content: \"▾\";\n",
       "}\n",
       "\n",
       "/* Pipeline/ColumnTransformer-specific style */\n",
       "\n",
       "#sk-container-id-1 div.sk-label input.sk-toggleable__control:checked~label.sk-toggleable__label {\n",
       "  color: var(--sklearn-color-text);\n",
       "  background-color: var(--sklearn-color-unfitted-level-2);\n",
       "}\n",
       "\n",
       "#sk-container-id-1 div.sk-label.fitted input.sk-toggleable__control:checked~label.sk-toggleable__label {\n",
       "  background-color: var(--sklearn-color-fitted-level-2);\n",
       "}\n",
       "\n",
       "/* Estimator-specific style */\n",
       "\n",
       "/* Colorize estimator box */\n",
       "#sk-container-id-1 div.sk-estimator input.sk-toggleable__control:checked~label.sk-toggleable__label {\n",
       "  /* unfitted */\n",
       "  background-color: var(--sklearn-color-unfitted-level-2);\n",
       "}\n",
       "\n",
       "#sk-container-id-1 div.sk-estimator.fitted input.sk-toggleable__control:checked~label.sk-toggleable__label {\n",
       "  /* fitted */\n",
       "  background-color: var(--sklearn-color-fitted-level-2);\n",
       "}\n",
       "\n",
       "#sk-container-id-1 div.sk-label label.sk-toggleable__label,\n",
       "#sk-container-id-1 div.sk-label label {\n",
       "  /* The background is the default theme color */\n",
       "  color: var(--sklearn-color-text-on-default-background);\n",
       "}\n",
       "\n",
       "/* On hover, darken the color of the background */\n",
       "#sk-container-id-1 div.sk-label:hover label.sk-toggleable__label {\n",
       "  color: var(--sklearn-color-text);\n",
       "  background-color: var(--sklearn-color-unfitted-level-2);\n",
       "}\n",
       "\n",
       "/* Label box, darken color on hover, fitted */\n",
       "#sk-container-id-1 div.sk-label.fitted:hover label.sk-toggleable__label.fitted {\n",
       "  color: var(--sklearn-color-text);\n",
       "  background-color: var(--sklearn-color-fitted-level-2);\n",
       "}\n",
       "\n",
       "/* Estimator label */\n",
       "\n",
       "#sk-container-id-1 div.sk-label label {\n",
       "  font-family: monospace;\n",
       "  font-weight: bold;\n",
       "  display: inline-block;\n",
       "  line-height: 1.2em;\n",
       "}\n",
       "\n",
       "#sk-container-id-1 div.sk-label-container {\n",
       "  text-align: center;\n",
       "}\n",
       "\n",
       "/* Estimator-specific */\n",
       "#sk-container-id-1 div.sk-estimator {\n",
       "  font-family: monospace;\n",
       "  border: 1px dotted var(--sklearn-color-border-box);\n",
       "  border-radius: 0.25em;\n",
       "  box-sizing: border-box;\n",
       "  margin-bottom: 0.5em;\n",
       "  /* unfitted */\n",
       "  background-color: var(--sklearn-color-unfitted-level-0);\n",
       "}\n",
       "\n",
       "#sk-container-id-1 div.sk-estimator.fitted {\n",
       "  /* fitted */\n",
       "  background-color: var(--sklearn-color-fitted-level-0);\n",
       "}\n",
       "\n",
       "/* on hover */\n",
       "#sk-container-id-1 div.sk-estimator:hover {\n",
       "  /* unfitted */\n",
       "  background-color: var(--sklearn-color-unfitted-level-2);\n",
       "}\n",
       "\n",
       "#sk-container-id-1 div.sk-estimator.fitted:hover {\n",
       "  /* fitted */\n",
       "  background-color: var(--sklearn-color-fitted-level-2);\n",
       "}\n",
       "\n",
       "/* Specification for estimator info (e.g. \"i\" and \"?\") */\n",
       "\n",
       "/* Common style for \"i\" and \"?\" */\n",
       "\n",
       ".sk-estimator-doc-link,\n",
       "a:link.sk-estimator-doc-link,\n",
       "a:visited.sk-estimator-doc-link {\n",
       "  float: right;\n",
       "  font-size: smaller;\n",
       "  line-height: 1em;\n",
       "  font-family: monospace;\n",
       "  background-color: var(--sklearn-color-background);\n",
       "  border-radius: 1em;\n",
       "  height: 1em;\n",
       "  width: 1em;\n",
       "  text-decoration: none !important;\n",
       "  margin-left: 1ex;\n",
       "  /* unfitted */\n",
       "  border: var(--sklearn-color-unfitted-level-1) 1pt solid;\n",
       "  color: var(--sklearn-color-unfitted-level-1);\n",
       "}\n",
       "\n",
       ".sk-estimator-doc-link.fitted,\n",
       "a:link.sk-estimator-doc-link.fitted,\n",
       "a:visited.sk-estimator-doc-link.fitted {\n",
       "  /* fitted */\n",
       "  border: var(--sklearn-color-fitted-level-1) 1pt solid;\n",
       "  color: var(--sklearn-color-fitted-level-1);\n",
       "}\n",
       "\n",
       "/* On hover */\n",
       "div.sk-estimator:hover .sk-estimator-doc-link:hover,\n",
       ".sk-estimator-doc-link:hover,\n",
       "div.sk-label-container:hover .sk-estimator-doc-link:hover,\n",
       ".sk-estimator-doc-link:hover {\n",
       "  /* unfitted */\n",
       "  background-color: var(--sklearn-color-unfitted-level-3);\n",
       "  color: var(--sklearn-color-background);\n",
       "  text-decoration: none;\n",
       "}\n",
       "\n",
       "div.sk-estimator.fitted:hover .sk-estimator-doc-link.fitted:hover,\n",
       ".sk-estimator-doc-link.fitted:hover,\n",
       "div.sk-label-container:hover .sk-estimator-doc-link.fitted:hover,\n",
       ".sk-estimator-doc-link.fitted:hover {\n",
       "  /* fitted */\n",
       "  background-color: var(--sklearn-color-fitted-level-3);\n",
       "  color: var(--sklearn-color-background);\n",
       "  text-decoration: none;\n",
       "}\n",
       "\n",
       "/* Span, style for the box shown on hovering the info icon */\n",
       ".sk-estimator-doc-link span {\n",
       "  display: none;\n",
       "  z-index: 9999;\n",
       "  position: relative;\n",
       "  font-weight: normal;\n",
       "  right: .2ex;\n",
       "  padding: .5ex;\n",
       "  margin: .5ex;\n",
       "  width: min-content;\n",
       "  min-width: 20ex;\n",
       "  max-width: 50ex;\n",
       "  color: var(--sklearn-color-text);\n",
       "  box-shadow: 2pt 2pt 4pt #999;\n",
       "  /* unfitted */\n",
       "  background: var(--sklearn-color-unfitted-level-0);\n",
       "  border: .5pt solid var(--sklearn-color-unfitted-level-3);\n",
       "}\n",
       "\n",
       ".sk-estimator-doc-link.fitted span {\n",
       "  /* fitted */\n",
       "  background: var(--sklearn-color-fitted-level-0);\n",
       "  border: var(--sklearn-color-fitted-level-3);\n",
       "}\n",
       "\n",
       ".sk-estimator-doc-link:hover span {\n",
       "  display: block;\n",
       "}\n",
       "\n",
       "/* \"?\"-specific style due to the `<a>` HTML tag */\n",
       "\n",
       "#sk-container-id-1 a.estimator_doc_link {\n",
       "  float: right;\n",
       "  font-size: 1rem;\n",
       "  line-height: 1em;\n",
       "  font-family: monospace;\n",
       "  background-color: var(--sklearn-color-background);\n",
       "  border-radius: 1rem;\n",
       "  height: 1rem;\n",
       "  width: 1rem;\n",
       "  text-decoration: none;\n",
       "  /* unfitted */\n",
       "  color: var(--sklearn-color-unfitted-level-1);\n",
       "  border: var(--sklearn-color-unfitted-level-1) 1pt solid;\n",
       "}\n",
       "\n",
       "#sk-container-id-1 a.estimator_doc_link.fitted {\n",
       "  /* fitted */\n",
       "  border: var(--sklearn-color-fitted-level-1) 1pt solid;\n",
       "  color: var(--sklearn-color-fitted-level-1);\n",
       "}\n",
       "\n",
       "/* On hover */\n",
       "#sk-container-id-1 a.estimator_doc_link:hover {\n",
       "  /* unfitted */\n",
       "  background-color: var(--sklearn-color-unfitted-level-3);\n",
       "  color: var(--sklearn-color-background);\n",
       "  text-decoration: none;\n",
       "}\n",
       "\n",
       "#sk-container-id-1 a.estimator_doc_link.fitted:hover {\n",
       "  /* fitted */\n",
       "  background-color: var(--sklearn-color-fitted-level-3);\n",
       "}\n",
       "</style><div id=\"sk-container-id-1\" class=\"sk-top-container\"><div class=\"sk-text-repr-fallback\"><pre>LinearRegression()</pre><b>In a Jupyter environment, please rerun this cell to show the HTML representation or trust the notebook. <br />On GitHub, the HTML representation is unable to render, please try loading this page with nbviewer.org.</b></div><div class=\"sk-container\" hidden><div class=\"sk-item\"><div class=\"sk-estimator fitted sk-toggleable\"><input class=\"sk-toggleable__control sk-hidden--visually\" id=\"sk-estimator-id-1\" type=\"checkbox\" checked><label for=\"sk-estimator-id-1\" class=\"sk-toggleable__label fitted sk-toggleable__label-arrow fitted\">&nbsp;&nbsp;LinearRegression<a class=\"sk-estimator-doc-link fitted\" rel=\"noreferrer\" target=\"_blank\" href=\"https://scikit-learn.org/1.5/modules/generated/sklearn.linear_model.LinearRegression.html\">?<span>Documentation for LinearRegression</span></a><span class=\"sk-estimator-doc-link fitted\">i<span>Fitted</span></span></label><div class=\"sk-toggleable__content fitted\"><pre>LinearRegression()</pre></div> </div></div></div></div>"
      ],
      "text/plain": [
       "LinearRegression()"
      ]
     },
     "execution_count": 205,
     "metadata": {},
     "output_type": "execute_result"
    }
   ],
   "source": [
    "# Fit the model/Run linear regression\n",
    "model = LinearRegression()\n",
    "model.fit(X_mix, y_vali)"
   ]
  },
  {
   "cell_type": "code",
   "execution_count": 209,
   "id": "e9949ffc-9bcc-4a53-84e2-57acb5d5ce28",
   "metadata": {},
   "outputs": [
    {
     "data": {
      "text/plain": [
       "array([[0.89897269, 0.36216596]])"
      ]
     },
     "execution_count": 209,
     "metadata": {},
     "output_type": "execute_result"
    }
   ],
   "source": [
    "model.coef_"
   ]
  },
  {
   "cell_type": "code",
   "execution_count": 215,
   "id": "9cef2e99",
   "metadata": {},
   "outputs": [
    {
     "name": "stdout",
     "output_type": "stream",
     "text": [
      "a_hat = 0.8989726940222849\n",
      "b_hat = 0.36216595775170946\n",
      "intercept = -0.022608874166172035\n"
     ]
    }
   ],
   "source": [
    "# Obtain the regression parameters\n",
    "a_hat = model.coef_[0][0]\n",
    "b_hat = model.coef_[0][1]\n",
    "intercept = model.intercept_[0]\n",
    "print(f\"{a_hat = }\")\n",
    "print(f\"{b_hat = }\")\n",
    "print(f\"{intercept = }\")"
   ]
  },
  {
   "cell_type": "markdown",
   "id": "fcc6cf67",
   "metadata": {},
   "source": [
    "### Predicting Heights for Test Dataset"
   ]
  },
  {
   "cell_type": "code",
   "execution_count": 219,
   "id": "76a95172",
   "metadata": {},
   "outputs": [],
   "source": [
    "X_XWeas_test = X_test.values.dot(W_eas).flatten()\n",
    "X_XWeur_test = X_test.values.dot(W_eur).flatten()\n",
    "y_hat = a_hat * X_XWeas_test + b_hat * X_XWeur_test + intercept"
   ]
  },
  {
   "cell_type": "markdown",
   "id": "55e4c91d",
   "metadata": {},
   "source": [
    "### Evaluation based on the pearson correlation coefficient on the testing cohort"
   ]
  },
  {
   "cell_type": "code",
   "execution_count": 235,
   "id": "8d03a61b",
   "metadata": {},
   "outputs": [
    {
     "name": "stdout",
     "output_type": "stream",
     "text": [
      "y_hat values: [0.04695375 0.05655279 0.08438821 0.0970568  0.03853903 0.05887181\n",
      " 0.04240254 0.00238118 0.07671237 0.06508254]\n",
      "y_test values: [0.02797135 0.05880101 0.1132894  0.11596031 0.03878745 0.0766022\n",
      " 0.03272136 0.00585905 0.08917236 0.03387937]\n",
      "r_value =0.7190838098766887\n",
      "p_value =1.6873219734615086e-49\n"
     ]
    }
   ],
   "source": [
    "print(\"y_hat values:\", y_hat[:10])\n",
    "print(\"y_test values:\", y_test[\"phen\"].values[:10])\n",
    "\n",
    "r_value, p_value = pearsonr(y_hat, y_test[\"phen\"].values)\n",
    "print(f\"{r_value =}\")\n",
    "print(f\"{p_value =}\")"
   ]
  },
  {
   "cell_type": "code",
   "execution_count": 237,
   "id": "0b876dc9",
   "metadata": {},
   "outputs": [
    {
     "name": "stdout",
     "output_type": "stream",
     "text": [
      "r_value = 0.7190838098766887\n",
      "p_value = 1.6873219734615085751861074209574647659681990647969e-49\n"
     ]
    }
   ],
   "source": [
    "# Set the precision to a high value\n",
    "mp.dps = 50  # Decimal places of precision\n",
    "\n",
    "# Compute Pearson correlation\n",
    "r_value, p_value = pearsonr(y_hat, y_test[\"phen\"].values)\n",
    "\n",
    "# Convert p-value to high precision using mpmath\n",
    "p_value_precise = mp.mpf(p_value)\n",
    "\n",
    "# Print the r_value and precise p_value\n",
    "print(f\"r_value = {r_value}\")\n",
    "print(f\"p_value = {p_value_precise}\")"
   ]
  },
  {
   "cell_type": "code",
   "execution_count": 239,
   "id": "ba73349d",
   "metadata": {},
   "outputs": [
    {
     "name": "stdout",
     "output_type": "stream",
     "text": [
      "r2 = 0.4944395143267716\n"
     ]
    }
   ],
   "source": [
    "r2 = r2_score(y_test[\"phen\"].values, y_hat)\n",
    "print(f\"{r2 = }\")"
   ]
  }
 ],
 "metadata": {
  "kernelspec": {
   "display_name": "Python 3 (ipykernel)",
   "language": "python",
   "name": "python3"
  },
  "language_info": {
   "codemirror_mode": {
    "name": "ipython",
    "version": 3
   },
   "file_extension": ".py",
   "mimetype": "text/x-python",
   "name": "python",
   "nbconvert_exporter": "python",
   "pygments_lexer": "ipython3",
   "version": "3.11.10"
  }
 },
 "nbformat": 4,
 "nbformat_minor": 5
}
